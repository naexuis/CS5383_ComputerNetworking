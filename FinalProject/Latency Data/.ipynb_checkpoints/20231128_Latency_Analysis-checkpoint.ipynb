{
 "cells": [
  {
   "cell_type": "code",
   "execution_count": 1,
   "id": "82af6f41",
   "metadata": {},
   "outputs": [],
   "source": [
    "import os\n",
    "import pandas as pd\n",
    "import numpy as np\n",
    "\n",
    "import matplotlib.pyplot as plt\n",
    "import matplotlib.dates as mdates\n",
    "%matplotlib inline\n",
    "import seaborn as sns\n",
    "\n",
    "# set up notebook to display multiple output in one cell\n",
    "from IPython.display import Latex\n",
    "from IPython.core.interactiveshell import InteractiveShell\n",
    "InteractiveShell.ast_node_interactivity = \"all\"\n",
    "pd.set_option('display.max_rows', None)\n",
    "pd.set_option('display.max_columns', None)\n",
    "pd.set_option(\"display.max_colwidth\", None)"
   ]
  },
  {
   "cell_type": "code",
   "execution_count": 2,
   "id": "5d2f67d1",
   "metadata": {},
   "outputs": [],
   "source": [
    "work_dir = \"./\""
   ]
  },
  {
   "cell_type": "code",
   "execution_count": 3,
   "id": "8f9b13a1",
   "metadata": {},
   "outputs": [
    {
     "name": "stdout",
     "output_type": "stream",
     "text": [
      "0 - NoLoadBalancer.txt\n",
      "1 - KubernetesLoadBalancer.txt\n",
      "2 - LinkerdBalancer.txt\n"
     ]
    }
   ],
   "source": [
    "filePaths = [f for f in os.listdir(work_dir) if f.endswith(\".txt\")]\n",
    "for i in range(len(filePaths)):\n",
    "    print(f'{i} - {filePaths[i]}')"
   ]
  },
  {
   "cell_type": "markdown",
   "id": "5cb3617e",
   "metadata": {},
   "source": [
    "# No Load Balancer"
   ]
  },
  {
   "cell_type": "code",
   "execution_count": 4,
   "id": "e5401e37",
   "metadata": {},
   "outputs": [],
   "source": [
    "file = pd.read_csv(work_dir+filePaths[0], sep=',')"
   ]
  },
  {
   "cell_type": "code",
   "execution_count": 5,
   "id": "b54c1ba5",
   "metadata": {},
   "outputs": [
    {
     "data": {
      "text/html": [
       "<div>\n",
       "<style scoped>\n",
       "    .dataframe tbody tr th:only-of-type {\n",
       "        vertical-align: middle;\n",
       "    }\n",
       "\n",
       "    .dataframe tbody tr th {\n",
       "        vertical-align: top;\n",
       "    }\n",
       "\n",
       "    .dataframe thead th {\n",
       "        text-align: right;\n",
       "    }\n",
       "</style>\n",
       "<table border=\"1\" class=\"dataframe\">\n",
       "  <thead>\n",
       "    <tr style=\"text-align: right;\">\n",
       "      <th></th>\n",
       "      <th>iterStep</th>\n",
       "      <th>process</th>\n",
       "      <th>time</th>\n",
       "    </tr>\n",
       "  </thead>\n",
       "  <tbody>\n",
       "    <tr>\n",
       "      <th>0</th>\n",
       "      <td>0</td>\n",
       "      <td>health serialization</td>\n",
       "      <td>0.012084</td>\n",
       "    </tr>\n",
       "    <tr>\n",
       "      <th>1</th>\n",
       "      <td>1</td>\n",
       "      <td>order serialization</td>\n",
       "      <td>0.041237</td>\n",
       "    </tr>\n",
       "    <tr>\n",
       "      <th>2</th>\n",
       "      <td>2</td>\n",
       "      <td>health serialization</td>\n",
       "      <td>0.008462</td>\n",
       "    </tr>\n",
       "    <tr>\n",
       "      <th>3</th>\n",
       "      <td>3</td>\n",
       "      <td>order serialization</td>\n",
       "      <td>0.050539</td>\n",
       "    </tr>\n",
       "    <tr>\n",
       "      <th>4</th>\n",
       "      <td>4</td>\n",
       "      <td>health serialization</td>\n",
       "      <td>0.013211</td>\n",
       "    </tr>\n",
       "  </tbody>\n",
       "</table>\n",
       "</div>"
      ],
      "text/plain": [
       "   iterStep               process      time\n",
       "0         0  health serialization  0.012084\n",
       "1         1   order serialization  0.041237\n",
       "2         2  health serialization  0.008462\n",
       "3         3   order serialization  0.050539\n",
       "4         4  health serialization  0.013211"
      ]
     },
     "execution_count": 5,
     "metadata": {},
     "output_type": "execute_result"
    }
   ],
   "source": [
    "file.head()"
   ]
  },
  {
   "cell_type": "code",
   "execution_count": 6,
   "id": "0a3aa450",
   "metadata": {},
   "outputs": [
    {
     "data": {
      "text/html": [
       "<div>\n",
       "<style scoped>\n",
       "    .dataframe tbody tr th:only-of-type {\n",
       "        vertical-align: middle;\n",
       "    }\n",
       "\n",
       "    .dataframe tbody tr th {\n",
       "        vertical-align: top;\n",
       "    }\n",
       "\n",
       "    .dataframe thead th {\n",
       "        text-align: right;\n",
       "    }\n",
       "</style>\n",
       "<table border=\"1\" class=\"dataframe\">\n",
       "  <thead>\n",
       "    <tr style=\"text-align: right;\">\n",
       "      <th></th>\n",
       "      <th>iterStep</th>\n",
       "      <th>process</th>\n",
       "      <th>time</th>\n",
       "      <th>test</th>\n",
       "    </tr>\n",
       "  </thead>\n",
       "  <tbody>\n",
       "    <tr>\n",
       "      <th>0</th>\n",
       "      <td>0</td>\n",
       "      <td>health serialization</td>\n",
       "      <td>0.012084</td>\n",
       "      <td>baseline</td>\n",
       "    </tr>\n",
       "    <tr>\n",
       "      <th>1</th>\n",
       "      <td>1</td>\n",
       "      <td>order serialization</td>\n",
       "      <td>0.041237</td>\n",
       "      <td>baseline</td>\n",
       "    </tr>\n",
       "    <tr>\n",
       "      <th>2</th>\n",
       "      <td>2</td>\n",
       "      <td>health serialization</td>\n",
       "      <td>0.008462</td>\n",
       "      <td>baseline</td>\n",
       "    </tr>\n",
       "    <tr>\n",
       "      <th>3</th>\n",
       "      <td>3</td>\n",
       "      <td>order serialization</td>\n",
       "      <td>0.050539</td>\n",
       "      <td>baseline</td>\n",
       "    </tr>\n",
       "    <tr>\n",
       "      <th>4</th>\n",
       "      <td>4</td>\n",
       "      <td>health serialization</td>\n",
       "      <td>0.013211</td>\n",
       "      <td>baseline</td>\n",
       "    </tr>\n",
       "  </tbody>\n",
       "</table>\n",
       "</div>"
      ],
      "text/plain": [
       "   iterStep               process      time      test\n",
       "0         0  health serialization  0.012084  baseline\n",
       "1         1   order serialization  0.041237  baseline\n",
       "2         2  health serialization  0.008462  baseline\n",
       "3         3   order serialization  0.050539  baseline\n",
       "4         4  health serialization  0.013211  baseline"
      ]
     },
     "execution_count": 6,
     "metadata": {},
     "output_type": "execute_result"
    }
   ],
   "source": [
    "datDF = file.copy()\n",
    "datDF['iterStep'] = datDF['iterStep'].astype(int)\n",
    "datDF['process'] = datDF['process'].astype(str)\n",
    "datDF['time'] = datDF['time'].astype(float)\n",
    "datDF['test'] = 'baseline'\n",
    "datDF.head()"
   ]
  },
  {
   "cell_type": "code",
   "execution_count": 7,
   "id": "6aa14a67",
   "metadata": {},
   "outputs": [],
   "source": [
    "tmpLST = []\n",
    "for i in range(len(datDF)):\n",
    "    if 'health' in datDF['process'][i].lower():\n",
    "        tmpLST.append(\"health\")\n",
    "        datDF.at[i,'process'] = datDF['process'][i].lower().replace('health ',\"\")\n",
    "\n",
    "    if 'order' in datDF['process'][i].lower():\n",
    "        tmpLST.append(\"order\")\n",
    "        datDF.at[i,'process'] = datDF['process'][i].lower().replace('order ',\"\")\n",
    "    \n",
    "datDF['server'] = tmpLST"
   ]
  },
  {
   "cell_type": "code",
   "execution_count": 8,
   "id": "6d437715",
   "metadata": {},
   "outputs": [
    {
     "data": {
      "text/html": [
       "<div>\n",
       "<style scoped>\n",
       "    .dataframe tbody tr th:only-of-type {\n",
       "        vertical-align: middle;\n",
       "    }\n",
       "\n",
       "    .dataframe tbody tr th {\n",
       "        vertical-align: top;\n",
       "    }\n",
       "\n",
       "    .dataframe thead th {\n",
       "        text-align: right;\n",
       "    }\n",
       "</style>\n",
       "<table border=\"1\" class=\"dataframe\">\n",
       "  <thead>\n",
       "    <tr style=\"text-align: right;\">\n",
       "      <th></th>\n",
       "      <th>iterStep</th>\n",
       "      <th>process</th>\n",
       "      <th>time</th>\n",
       "      <th>test</th>\n",
       "      <th>server</th>\n",
       "    </tr>\n",
       "  </thead>\n",
       "  <tbody>\n",
       "    <tr>\n",
       "      <th>0</th>\n",
       "      <td>0</td>\n",
       "      <td>serialization</td>\n",
       "      <td>0.012084</td>\n",
       "      <td>baseline</td>\n",
       "      <td>health</td>\n",
       "    </tr>\n",
       "    <tr>\n",
       "      <th>1</th>\n",
       "      <td>1</td>\n",
       "      <td>serialization</td>\n",
       "      <td>0.041237</td>\n",
       "      <td>baseline</td>\n",
       "      <td>order</td>\n",
       "    </tr>\n",
       "    <tr>\n",
       "      <th>2</th>\n",
       "      <td>2</td>\n",
       "      <td>serialization</td>\n",
       "      <td>0.008462</td>\n",
       "      <td>baseline</td>\n",
       "      <td>health</td>\n",
       "    </tr>\n",
       "    <tr>\n",
       "      <th>3</th>\n",
       "      <td>3</td>\n",
       "      <td>serialization</td>\n",
       "      <td>0.050539</td>\n",
       "      <td>baseline</td>\n",
       "      <td>order</td>\n",
       "    </tr>\n",
       "    <tr>\n",
       "      <th>4</th>\n",
       "      <td>4</td>\n",
       "      <td>serialization</td>\n",
       "      <td>0.013211</td>\n",
       "      <td>baseline</td>\n",
       "      <td>health</td>\n",
       "    </tr>\n",
       "  </tbody>\n",
       "</table>\n",
       "</div>"
      ],
      "text/plain": [
       "   iterStep        process      time      test  server\n",
       "0         0  serialization  0.012084  baseline  health\n",
       "1         1  serialization  0.041237  baseline   order\n",
       "2         2  serialization  0.008462  baseline  health\n",
       "3         3  serialization  0.050539  baseline   order\n",
       "4         4  serialization  0.013211  baseline  health"
      ]
     },
     "execution_count": 8,
     "metadata": {},
     "output_type": "execute_result"
    }
   ],
   "source": [
    "datDF.head()"
   ]
  },
  {
   "cell_type": "code",
   "execution_count": 9,
   "id": "c14209e3",
   "metadata": {},
   "outputs": [
    {
     "data": {
      "text/html": [
       "<div>\n",
       "<style scoped>\n",
       "    .dataframe tbody tr th:only-of-type {\n",
       "        vertical-align: middle;\n",
       "    }\n",
       "\n",
       "    .dataframe tbody tr th {\n",
       "        vertical-align: top;\n",
       "    }\n",
       "\n",
       "    .dataframe thead th {\n",
       "        text-align: right;\n",
       "    }\n",
       "</style>\n",
       "<table border=\"1\" class=\"dataframe\">\n",
       "  <thead>\n",
       "    <tr style=\"text-align: right;\">\n",
       "      <th></th>\n",
       "      <th>iterStep</th>\n",
       "      <th>process</th>\n",
       "      <th>time</th>\n",
       "      <th>test</th>\n",
       "      <th>server</th>\n",
       "    </tr>\n",
       "  </thead>\n",
       "  <tbody>\n",
       "    <tr>\n",
       "      <th>0</th>\n",
       "      <td>0</td>\n",
       "      <td>serialization</td>\n",
       "      <td>12.083530</td>\n",
       "      <td>baseline</td>\n",
       "      <td>health</td>\n",
       "    </tr>\n",
       "    <tr>\n",
       "      <th>1</th>\n",
       "      <td>1</td>\n",
       "      <td>serialization</td>\n",
       "      <td>41.236877</td>\n",
       "      <td>baseline</td>\n",
       "      <td>order</td>\n",
       "    </tr>\n",
       "    <tr>\n",
       "      <th>2</th>\n",
       "      <td>2</td>\n",
       "      <td>serialization</td>\n",
       "      <td>8.462429</td>\n",
       "      <td>baseline</td>\n",
       "      <td>health</td>\n",
       "    </tr>\n",
       "    <tr>\n",
       "      <th>3</th>\n",
       "      <td>3</td>\n",
       "      <td>serialization</td>\n",
       "      <td>50.538540</td>\n",
       "      <td>baseline</td>\n",
       "      <td>order</td>\n",
       "    </tr>\n",
       "    <tr>\n",
       "      <th>4</th>\n",
       "      <td>4</td>\n",
       "      <td>serialization</td>\n",
       "      <td>13.211250</td>\n",
       "      <td>baseline</td>\n",
       "      <td>health</td>\n",
       "    </tr>\n",
       "  </tbody>\n",
       "</table>\n",
       "</div>"
      ],
      "text/plain": [
       "   iterStep        process       time      test  server\n",
       "0         0  serialization  12.083530  baseline  health\n",
       "1         1  serialization  41.236877  baseline   order\n",
       "2         2  serialization   8.462429  baseline  health\n",
       "3         3  serialization  50.538540  baseline   order\n",
       "4         4  serialization  13.211250  baseline  health"
      ]
     },
     "execution_count": 9,
     "metadata": {},
     "output_type": "execute_result"
    }
   ],
   "source": [
    "serialDF = datDF[datDF['process']=='serialization'].reset_index(drop=True)\n",
    "\n",
    "# convert seconds to miliseconds\n",
    "serialDF['time'] = serialDF['time']*1000\n",
    "\n",
    "serialDF.head()"
   ]
  },
  {
   "cell_type": "code",
   "execution_count": 10,
   "id": "ae57631b",
   "metadata": {},
   "outputs": [
    {
     "data": {
      "text/html": [
       "<div>\n",
       "<style scoped>\n",
       "    .dataframe tbody tr th:only-of-type {\n",
       "        vertical-align: middle;\n",
       "    }\n",
       "\n",
       "    .dataframe tbody tr th {\n",
       "        vertical-align: top;\n",
       "    }\n",
       "\n",
       "    .dataframe thead th {\n",
       "        text-align: right;\n",
       "    }\n",
       "</style>\n",
       "<table border=\"1\" class=\"dataframe\">\n",
       "  <thead>\n",
       "    <tr style=\"text-align: right;\">\n",
       "      <th></th>\n",
       "      <th>iterStep</th>\n",
       "      <th>process</th>\n",
       "      <th>time</th>\n",
       "      <th>test</th>\n",
       "      <th>server</th>\n",
       "    </tr>\n",
       "  </thead>\n",
       "  <tbody>\n",
       "  </tbody>\n",
       "</table>\n",
       "</div>"
      ],
      "text/plain": [
       "Empty DataFrame\n",
       "Columns: [iterStep, process, time, test, server]\n",
       "Index: []"
      ]
     },
     "execution_count": 10,
     "metadata": {},
     "output_type": "execute_result"
    }
   ],
   "source": [
    "deserialDF = datDF[datDF['process']=='deserialization'].reset_index(drop=True)\n",
    "deserialDF.head()"
   ]
  },
  {
   "cell_type": "markdown",
   "id": "e2363c09",
   "metadata": {},
   "source": [
    "# Latency Data Analysis\n",
    "\n",
    "For this analysis we will be using a boxplot. A box and whisker plot (otherwise known as a boxplot), is a graph summarising a set of data. The shape of the boxplot shows how the data is distributed and it also shows any outliers. It is a useful way to compare different sets of data as you can draw more than one boxplot per graph. These can be displayed alongside a number line, horizontally or vertically.\n",
    "\n",
    "# Reading a Box and Whisker Plot\n",
    "\n",
    "Interpreting a boxplot can be done once you understand what the different lines mean on a box and whisker diagram. The line splitting the box in two represents the median value. This shows that 50% of the data lies on the left hand side of the median value and 50% lies on the right hand side. The left edge of the box represents the lower quartile; it shows the value at which the first 25% of the data falls up to. The right edge of the box shows the upper quartile; it shows that 25% of the data lies to the right of the upper quartile value. The values at which the horizontal lines stop at are the values of the upper and lower values of the data. The single points on the diagram show the outliers."
   ]
  },
  {
   "attachments": {
    "boxplotEX.jpg": {
     "image/jpeg": "[encoded data removed]"
    }
   },
   "cell_type": "markdown",
   "id": "8a2e201a",
   "metadata": {},
   "source": [
    "![boxplotEX.jpg](attachment:boxplotEX.jpg)"
   ]
  },
  {
   "cell_type": "markdown",
   "id": "6a23e322",
   "metadata": {},
   "source": [
    "# Serialization"
   ]
  },
  {
   "cell_type": "code",
   "execution_count": 11,
   "id": "bbabfe8d",
   "metadata": {},
   "outputs": [
    {
     "data": {
      "text/plain": [
       "<AxesSubplot:xlabel='time', ylabel='server'>"
      ]
     },
     "execution_count": 11,
     "metadata": {},
     "output_type": "execute_result"
    },
    {
     "data": {
      "text/plain": [
       "Text(0.5, 0, 'time (ms)')"
      ]
     },
     "execution_count": 11,
     "metadata": {},
     "output_type": "execute_result"
    },
    {
     "data": {
      "text/plain": [
       "Text(0, 0.5, 'Server Latency')"
      ]
     },
     "execution_count": 11,
     "metadata": {},
     "output_type": "execute_result"
    },
    {
     "data": {
      "image/png": "[encoded data removed]",
      "text/plain": [
       "<Figure size 640x480 with 1 Axes>"
      ]
     },
     "metadata": {},
     "output_type": "display_data"
    }
   ],
   "source": [
    "sns.boxplot(data=serialDF, x=\"time\", y=\"server\")\n",
    "plt.xlabel('time (ms)', fontsize=12)\n",
    "plt.ylabel('Server Latency', fontsize=12)\n",
    "plt.show()"
   ]
  },
  {
   "cell_type": "markdown",
   "id": "5bf83f3c",
   "metadata": {},
   "source": [
    "## Health Server"
   ]
  },
  {
   "cell_type": "code",
   "execution_count": 12,
   "id": "5d54e324",
   "metadata": {},
   "outputs": [
    {
     "data": {
      "text/html": [
       "<div>\n",
       "<style scoped>\n",
       "    .dataframe tbody tr th:only-of-type {\n",
       "        vertical-align: middle;\n",
       "    }\n",
       "\n",
       "    .dataframe tbody tr th {\n",
       "        vertical-align: top;\n",
       "    }\n",
       "\n",
       "    .dataframe thead th {\n",
       "        text-align: right;\n",
       "    }\n",
       "</style>\n",
       "<table border=\"1\" class=\"dataframe\">\n",
       "  <thead>\n",
       "    <tr style=\"text-align: right;\">\n",
       "      <th></th>\n",
       "      <th>iterStep</th>\n",
       "      <th>process</th>\n",
       "      <th>time</th>\n",
       "      <th>test</th>\n",
       "      <th>server</th>\n",
       "    </tr>\n",
       "  </thead>\n",
       "  <tbody>\n",
       "    <tr>\n",
       "      <th>0</th>\n",
       "      <td>0</td>\n",
       "      <td>serialization</td>\n",
       "      <td>12.083530</td>\n",
       "      <td>baseline</td>\n",
       "      <td>health</td>\n",
       "    </tr>\n",
       "    <tr>\n",
       "      <th>1</th>\n",
       "      <td>2</td>\n",
       "      <td>serialization</td>\n",
       "      <td>8.462429</td>\n",
       "      <td>baseline</td>\n",
       "      <td>health</td>\n",
       "    </tr>\n",
       "    <tr>\n",
       "      <th>2</th>\n",
       "      <td>4</td>\n",
       "      <td>serialization</td>\n",
       "      <td>13.211250</td>\n",
       "      <td>baseline</td>\n",
       "      <td>health</td>\n",
       "    </tr>\n",
       "    <tr>\n",
       "      <th>3</th>\n",
       "      <td>6</td>\n",
       "      <td>serialization</td>\n",
       "      <td>1.258373</td>\n",
       "      <td>baseline</td>\n",
       "      <td>health</td>\n",
       "    </tr>\n",
       "    <tr>\n",
       "      <th>4</th>\n",
       "      <td>8</td>\n",
       "      <td>serialization</td>\n",
       "      <td>17.588139</td>\n",
       "      <td>baseline</td>\n",
       "      <td>health</td>\n",
       "    </tr>\n",
       "  </tbody>\n",
       "</table>\n",
       "</div>"
      ],
      "text/plain": [
       "   iterStep        process       time      test  server\n",
       "0         0  serialization  12.083530  baseline  health\n",
       "1         2  serialization   8.462429  baseline  health\n",
       "2         4  serialization  13.211250  baseline  health\n",
       "3         6  serialization   1.258373  baseline  health\n",
       "4         8  serialization  17.588139  baseline  health"
      ]
     },
     "execution_count": 12,
     "metadata": {},
     "output_type": "execute_result"
    },
    {
     "name": "stdout",
     "output_type": "stream",
     "text": [
      "Median value: 7.274\n"
     ]
    },
    {
     "data": {
      "text/html": [
       "<div>\n",
       "<style scoped>\n",
       "    .dataframe tbody tr th:only-of-type {\n",
       "        vertical-align: middle;\n",
       "    }\n",
       "\n",
       "    .dataframe tbody tr th {\n",
       "        vertical-align: top;\n",
       "    }\n",
       "\n",
       "    .dataframe thead th {\n",
       "        text-align: right;\n",
       "    }\n",
       "</style>\n",
       "<table border=\"1\" class=\"dataframe\">\n",
       "  <thead>\n",
       "    <tr style=\"text-align: right;\">\n",
       "      <th></th>\n",
       "      <th>iterStep</th>\n",
       "      <th>time</th>\n",
       "    </tr>\n",
       "  </thead>\n",
       "  <tbody>\n",
       "    <tr>\n",
       "      <th>count</th>\n",
       "      <td>1000.000000</td>\n",
       "      <td>1000.000000</td>\n",
       "    </tr>\n",
       "    <tr>\n",
       "      <th>mean</th>\n",
       "      <td>999.000000</td>\n",
       "      <td>11.288423</td>\n",
       "    </tr>\n",
       "    <tr>\n",
       "      <th>std</th>\n",
       "      <td>577.638872</td>\n",
       "      <td>12.280577</td>\n",
       "    </tr>\n",
       "    <tr>\n",
       "      <th>min</th>\n",
       "      <td>0.000000</td>\n",
       "      <td>0.566721</td>\n",
       "    </tr>\n",
       "    <tr>\n",
       "      <th>25%</th>\n",
       "      <td>499.500000</td>\n",
       "      <td>2.707362</td>\n",
       "    </tr>\n",
       "    <tr>\n",
       "      <th>50%</th>\n",
       "      <td>999.000000</td>\n",
       "      <td>7.273674</td>\n",
       "    </tr>\n",
       "    <tr>\n",
       "      <th>75%</th>\n",
       "      <td>1498.500000</td>\n",
       "      <td>15.944898</td>\n",
       "    </tr>\n",
       "    <tr>\n",
       "      <th>max</th>\n",
       "      <td>1998.000000</td>\n",
       "      <td>80.595970</td>\n",
       "    </tr>\n",
       "  </tbody>\n",
       "</table>\n",
       "</div>"
      ],
      "text/plain": [
       "          iterStep         time\n",
       "count  1000.000000  1000.000000\n",
       "mean    999.000000    11.288423\n",
       "std     577.638872    12.280577\n",
       "min       0.000000     0.566721\n",
       "25%     499.500000     2.707362\n",
       "50%     999.000000     7.273674\n",
       "75%    1498.500000    15.944898\n",
       "max    1998.000000    80.595970"
      ]
     },
     "execution_count": 12,
     "metadata": {},
     "output_type": "execute_result"
    }
   ],
   "source": [
    "tmpHealth = serialDF[serialDF['server']=='health'].reset_index(drop=True)\n",
    "tmpHealth.head()\n",
    "print(\"Median value: {}\".format(np.round_(np.median(tmpHealth['time']),3)))\n",
    "tmpHealth.describe()"
   ]
  },
  {
   "cell_type": "markdown",
   "id": "70296999",
   "metadata": {},
   "source": [
    "## Order Server"
   ]
  },
  {
   "cell_type": "code",
   "execution_count": 13,
   "id": "8255f698",
   "metadata": {},
   "outputs": [
    {
     "data": {
      "text/html": [
       "<div>\n",
       "<style scoped>\n",
       "    .dataframe tbody tr th:only-of-type {\n",
       "        vertical-align: middle;\n",
       "    }\n",
       "\n",
       "    .dataframe tbody tr th {\n",
       "        vertical-align: top;\n",
       "    }\n",
       "\n",
       "    .dataframe thead th {\n",
       "        text-align: right;\n",
       "    }\n",
       "</style>\n",
       "<table border=\"1\" class=\"dataframe\">\n",
       "  <thead>\n",
       "    <tr style=\"text-align: right;\">\n",
       "      <th></th>\n",
       "      <th>iterStep</th>\n",
       "      <th>process</th>\n",
       "      <th>time</th>\n",
       "      <th>test</th>\n",
       "      <th>server</th>\n",
       "    </tr>\n",
       "  </thead>\n",
       "  <tbody>\n",
       "    <tr>\n",
       "      <th>0</th>\n",
       "      <td>1</td>\n",
       "      <td>serialization</td>\n",
       "      <td>41.236877</td>\n",
       "      <td>baseline</td>\n",
       "      <td>order</td>\n",
       "    </tr>\n",
       "    <tr>\n",
       "      <th>1</th>\n",
       "      <td>3</td>\n",
       "      <td>serialization</td>\n",
       "      <td>50.538540</td>\n",
       "      <td>baseline</td>\n",
       "      <td>order</td>\n",
       "    </tr>\n",
       "    <tr>\n",
       "      <th>2</th>\n",
       "      <td>5</td>\n",
       "      <td>serialization</td>\n",
       "      <td>30.599356</td>\n",
       "      <td>baseline</td>\n",
       "      <td>order</td>\n",
       "    </tr>\n",
       "    <tr>\n",
       "      <th>3</th>\n",
       "      <td>7</td>\n",
       "      <td>serialization</td>\n",
       "      <td>20.239592</td>\n",
       "      <td>baseline</td>\n",
       "      <td>order</td>\n",
       "    </tr>\n",
       "    <tr>\n",
       "      <th>4</th>\n",
       "      <td>9</td>\n",
       "      <td>serialization</td>\n",
       "      <td>8.718967</td>\n",
       "      <td>baseline</td>\n",
       "      <td>order</td>\n",
       "    </tr>\n",
       "  </tbody>\n",
       "</table>\n",
       "</div>"
      ],
      "text/plain": [
       "   iterStep        process       time      test server\n",
       "0         1  serialization  41.236877  baseline  order\n",
       "1         3  serialization  50.538540  baseline  order\n",
       "2         5  serialization  30.599356  baseline  order\n",
       "3         7  serialization  20.239592  baseline  order\n",
       "4         9  serialization   8.718967  baseline  order"
      ]
     },
     "execution_count": 13,
     "metadata": {},
     "output_type": "execute_result"
    },
    {
     "name": "stdout",
     "output_type": "stream",
     "text": [
      "Median value: 19.428\n"
     ]
    },
    {
     "data": {
      "text/html": [
       "<div>\n",
       "<style scoped>\n",
       "    .dataframe tbody tr th:only-of-type {\n",
       "        vertical-align: middle;\n",
       "    }\n",
       "\n",
       "    .dataframe tbody tr th {\n",
       "        vertical-align: top;\n",
       "    }\n",
       "\n",
       "    .dataframe thead th {\n",
       "        text-align: right;\n",
       "    }\n",
       "</style>\n",
       "<table border=\"1\" class=\"dataframe\">\n",
       "  <thead>\n",
       "    <tr style=\"text-align: right;\">\n",
       "      <th></th>\n",
       "      <th>iterStep</th>\n",
       "      <th>time</th>\n",
       "    </tr>\n",
       "  </thead>\n",
       "  <tbody>\n",
       "    <tr>\n",
       "      <th>count</th>\n",
       "      <td>1000.000000</td>\n",
       "      <td>1000.000000</td>\n",
       "    </tr>\n",
       "    <tr>\n",
       "      <th>mean</th>\n",
       "      <td>1000.000000</td>\n",
       "      <td>22.833373</td>\n",
       "    </tr>\n",
       "    <tr>\n",
       "      <th>std</th>\n",
       "      <td>577.638872</td>\n",
       "      <td>16.024076</td>\n",
       "    </tr>\n",
       "    <tr>\n",
       "      <th>min</th>\n",
       "      <td>1.000000</td>\n",
       "      <td>1.308918</td>\n",
       "    </tr>\n",
       "    <tr>\n",
       "      <th>25%</th>\n",
       "      <td>500.500000</td>\n",
       "      <td>10.739088</td>\n",
       "    </tr>\n",
       "    <tr>\n",
       "      <th>50%</th>\n",
       "      <td>1000.000000</td>\n",
       "      <td>19.428253</td>\n",
       "    </tr>\n",
       "    <tr>\n",
       "      <th>75%</th>\n",
       "      <td>1499.500000</td>\n",
       "      <td>31.636894</td>\n",
       "    </tr>\n",
       "    <tr>\n",
       "      <th>max</th>\n",
       "      <td>1999.000000</td>\n",
       "      <td>95.691919</td>\n",
       "    </tr>\n",
       "  </tbody>\n",
       "</table>\n",
       "</div>"
      ],
      "text/plain": [
       "          iterStep         time\n",
       "count  1000.000000  1000.000000\n",
       "mean   1000.000000    22.833373\n",
       "std     577.638872    16.024076\n",
       "min       1.000000     1.308918\n",
       "25%     500.500000    10.739088\n",
       "50%    1000.000000    19.428253\n",
       "75%    1499.500000    31.636894\n",
       "max    1999.000000    95.691919"
      ]
     },
     "execution_count": 13,
     "metadata": {},
     "output_type": "execute_result"
    }
   ],
   "source": [
    "tmpOrder = serialDF[serialDF['server']=='order'].reset_index(drop=True)\n",
    "tmpOrder.head()\n",
    "print(\"Median value: {}\".format(np.round_(np.median(tmpOrder['time']),3)))\n",
    "tmpOrder.describe()"
   ]
  },
  {
   "cell_type": "markdown",
   "id": "e4d3f491",
   "metadata": {},
   "source": [
    "# Kubernetes Load Balancer"
   ]
  },
  {
   "cell_type": "code",
   "execution_count": 14,
   "id": "5222db33",
   "metadata": {},
   "outputs": [],
   "source": [
    "file1 = pd.read_csv(work_dir+filePaths[1], sep=',')"
   ]
  },
  {
   "cell_type": "code",
   "execution_count": 15,
   "id": "b4637013",
   "metadata": {},
   "outputs": [
    {
     "data": {
      "text/html": [
       "<div>\n",
       "<style scoped>\n",
       "    .dataframe tbody tr th:only-of-type {\n",
       "        vertical-align: middle;\n",
       "    }\n",
       "\n",
       "    .dataframe tbody tr th {\n",
       "        vertical-align: top;\n",
       "    }\n",
       "\n",
       "    .dataframe thead th {\n",
       "        text-align: right;\n",
       "    }\n",
       "</style>\n",
       "<table border=\"1\" class=\"dataframe\">\n",
       "  <thead>\n",
       "    <tr style=\"text-align: right;\">\n",
       "      <th></th>\n",
       "      <th>iterStep</th>\n",
       "      <th>process</th>\n",
       "      <th>time</th>\n",
       "    </tr>\n",
       "  </thead>\n",
       "  <tbody>\n",
       "    <tr>\n",
       "      <th>0</th>\n",
       "      <td>0</td>\n",
       "      <td>health serialization</td>\n",
       "      <td>0.038236</td>\n",
       "    </tr>\n",
       "    <tr>\n",
       "      <th>1</th>\n",
       "      <td>1</td>\n",
       "      <td>order serialization</td>\n",
       "      <td>0.015282</td>\n",
       "    </tr>\n",
       "    <tr>\n",
       "      <th>2</th>\n",
       "      <td>2</td>\n",
       "      <td>health serialization</td>\n",
       "      <td>0.009407</td>\n",
       "    </tr>\n",
       "    <tr>\n",
       "      <th>3</th>\n",
       "      <td>3</td>\n",
       "      <td>order serialization</td>\n",
       "      <td>0.001559</td>\n",
       "    </tr>\n",
       "    <tr>\n",
       "      <th>4</th>\n",
       "      <td>4</td>\n",
       "      <td>health serialization</td>\n",
       "      <td>0.004910</td>\n",
       "    </tr>\n",
       "  </tbody>\n",
       "</table>\n",
       "</div>"
      ],
      "text/plain": [
       "   iterStep               process      time\n",
       "0         0  health serialization  0.038236\n",
       "1         1   order serialization  0.015282\n",
       "2         2  health serialization  0.009407\n",
       "3         3   order serialization  0.001559\n",
       "4         4  health serialization  0.004910"
      ]
     },
     "execution_count": 15,
     "metadata": {},
     "output_type": "execute_result"
    }
   ],
   "source": [
    "file1.head()"
   ]
  },
  {
   "cell_type": "code",
   "execution_count": 16,
   "id": "386ad36b",
   "metadata": {},
   "outputs": [
    {
     "data": {
      "text/html": [
       "<div>\n",
       "<style scoped>\n",
       "    .dataframe tbody tr th:only-of-type {\n",
       "        vertical-align: middle;\n",
       "    }\n",
       "\n",
       "    .dataframe tbody tr th {\n",
       "        vertical-align: top;\n",
       "    }\n",
       "\n",
       "    .dataframe thead th {\n",
       "        text-align: right;\n",
       "    }\n",
       "</style>\n",
       "<table border=\"1\" class=\"dataframe\">\n",
       "  <thead>\n",
       "    <tr style=\"text-align: right;\">\n",
       "      <th></th>\n",
       "      <th>iterStep</th>\n",
       "      <th>process</th>\n",
       "      <th>time</th>\n",
       "    </tr>\n",
       "  </thead>\n",
       "  <tbody>\n",
       "    <tr>\n",
       "      <th>0</th>\n",
       "      <td>0</td>\n",
       "      <td>health serialization</td>\n",
       "      <td>0.038236</td>\n",
       "    </tr>\n",
       "    <tr>\n",
       "      <th>1</th>\n",
       "      <td>1</td>\n",
       "      <td>order serialization</td>\n",
       "      <td>0.015282</td>\n",
       "    </tr>\n",
       "    <tr>\n",
       "      <th>2</th>\n",
       "      <td>2</td>\n",
       "      <td>health serialization</td>\n",
       "      <td>0.009407</td>\n",
       "    </tr>\n",
       "    <tr>\n",
       "      <th>3</th>\n",
       "      <td>3</td>\n",
       "      <td>order serialization</td>\n",
       "      <td>0.001559</td>\n",
       "    </tr>\n",
       "    <tr>\n",
       "      <th>4</th>\n",
       "      <td>4</td>\n",
       "      <td>health serialization</td>\n",
       "      <td>0.004910</td>\n",
       "    </tr>\n",
       "  </tbody>\n",
       "</table>\n",
       "</div>"
      ],
      "text/plain": [
       "   iterStep               process      time\n",
       "0         0  health serialization  0.038236\n",
       "1         1   order serialization  0.015282\n",
       "2         2  health serialization  0.009407\n",
       "3         3   order serialization  0.001559\n",
       "4         4  health serialization  0.004910"
      ]
     },
     "execution_count": 16,
     "metadata": {},
     "output_type": "execute_result"
    }
   ],
   "source": [
    "datDF1 = file1.copy()\n",
    "datDF1['iterStep'] = datDF1['iterStep'].astype(int)\n",
    "datDF1['process'] = datDF1['process'].astype(str)\n",
    "datDF1['time'] = datDF1['time'].astype(float)\n",
    "datDF1.head()"
   ]
  },
  {
   "cell_type": "code",
   "execution_count": 17,
   "id": "58dda62d",
   "metadata": {},
   "outputs": [],
   "source": [
    "tmpLST = []\n",
    "for i in range(len(datDF1)):\n",
    "    if 'health' in datDF1['process'][i].lower():\n",
    "        tmpLST.append(\"health\")\n",
    "        datDF1.at[i,'process'] = datDF1['process'][i].lower().replace('health ',\"\")\n",
    "\n",
    "    if 'order' in datDF1['process'][i].lower():\n",
    "        tmpLST.append(\"order\")\n",
    "        datDF1.at[i,'process'] = datDF1['process'][i].lower().replace('order ',\"\")\n",
    "    \n",
    "datDF1['server'] = tmpLST"
   ]
  },
  {
   "cell_type": "code",
   "execution_count": 18,
   "id": "065248d4",
   "metadata": {},
   "outputs": [
    {
     "data": {
      "text/html": [
       "<div>\n",
       "<style scoped>\n",
       "    .dataframe tbody tr th:only-of-type {\n",
       "        vertical-align: middle;\n",
       "    }\n",
       "\n",
       "    .dataframe tbody tr th {\n",
       "        vertical-align: top;\n",
       "    }\n",
       "\n",
       "    .dataframe thead th {\n",
       "        text-align: right;\n",
       "    }\n",
       "</style>\n",
       "<table border=\"1\" class=\"dataframe\">\n",
       "  <thead>\n",
       "    <tr style=\"text-align: right;\">\n",
       "      <th></th>\n",
       "      <th>iterStep</th>\n",
       "      <th>process</th>\n",
       "      <th>time</th>\n",
       "      <th>server</th>\n",
       "    </tr>\n",
       "  </thead>\n",
       "  <tbody>\n",
       "    <tr>\n",
       "      <th>0</th>\n",
       "      <td>0</td>\n",
       "      <td>serialization</td>\n",
       "      <td>0.038236</td>\n",
       "      <td>health</td>\n",
       "    </tr>\n",
       "    <tr>\n",
       "      <th>1</th>\n",
       "      <td>1</td>\n",
       "      <td>serialization</td>\n",
       "      <td>0.015282</td>\n",
       "      <td>order</td>\n",
       "    </tr>\n",
       "    <tr>\n",
       "      <th>2</th>\n",
       "      <td>2</td>\n",
       "      <td>serialization</td>\n",
       "      <td>0.009407</td>\n",
       "      <td>health</td>\n",
       "    </tr>\n",
       "    <tr>\n",
       "      <th>3</th>\n",
       "      <td>3</td>\n",
       "      <td>serialization</td>\n",
       "      <td>0.001559</td>\n",
       "      <td>order</td>\n",
       "    </tr>\n",
       "    <tr>\n",
       "      <th>4</th>\n",
       "      <td>4</td>\n",
       "      <td>serialization</td>\n",
       "      <td>0.004910</td>\n",
       "      <td>health</td>\n",
       "    </tr>\n",
       "  </tbody>\n",
       "</table>\n",
       "</div>"
      ],
      "text/plain": [
       "   iterStep        process      time  server\n",
       "0         0  serialization  0.038236  health\n",
       "1         1  serialization  0.015282   order\n",
       "2         2  serialization  0.009407  health\n",
       "3         3  serialization  0.001559   order\n",
       "4         4  serialization  0.004910  health"
      ]
     },
     "execution_count": 18,
     "metadata": {},
     "output_type": "execute_result"
    }
   ],
   "source": [
    "datDF1.head()"
   ]
  },
  {
   "cell_type": "code",
   "execution_count": 19,
   "id": "2b031328",
   "metadata": {},
   "outputs": [
    {
     "data": {
      "text/html": [
       "<div>\n",
       "<style scoped>\n",
       "    .dataframe tbody tr th:only-of-type {\n",
       "        vertical-align: middle;\n",
       "    }\n",
       "\n",
       "    .dataframe tbody tr th {\n",
       "        vertical-align: top;\n",
       "    }\n",
       "\n",
       "    .dataframe thead th {\n",
       "        text-align: right;\n",
       "    }\n",
       "</style>\n",
       "<table border=\"1\" class=\"dataframe\">\n",
       "  <thead>\n",
       "    <tr style=\"text-align: right;\">\n",
       "      <th></th>\n",
       "      <th>iterStep</th>\n",
       "      <th>process</th>\n",
       "      <th>time</th>\n",
       "      <th>server</th>\n",
       "    </tr>\n",
       "  </thead>\n",
       "  <tbody>\n",
       "    <tr>\n",
       "      <th>0</th>\n",
       "      <td>0</td>\n",
       "      <td>serialization</td>\n",
       "      <td>38.236141</td>\n",
       "      <td>health</td>\n",
       "    </tr>\n",
       "    <tr>\n",
       "      <th>1</th>\n",
       "      <td>1</td>\n",
       "      <td>serialization</td>\n",
       "      <td>15.282154</td>\n",
       "      <td>order</td>\n",
       "    </tr>\n",
       "    <tr>\n",
       "      <th>2</th>\n",
       "      <td>2</td>\n",
       "      <td>serialization</td>\n",
       "      <td>9.406567</td>\n",
       "      <td>health</td>\n",
       "    </tr>\n",
       "    <tr>\n",
       "      <th>3</th>\n",
       "      <td>3</td>\n",
       "      <td>serialization</td>\n",
       "      <td>1.558781</td>\n",
       "      <td>order</td>\n",
       "    </tr>\n",
       "    <tr>\n",
       "      <th>4</th>\n",
       "      <td>4</td>\n",
       "      <td>serialization</td>\n",
       "      <td>4.910469</td>\n",
       "      <td>health</td>\n",
       "    </tr>\n",
       "  </tbody>\n",
       "</table>\n",
       "</div>"
      ],
      "text/plain": [
       "   iterStep        process       time  server\n",
       "0         0  serialization  38.236141  health\n",
       "1         1  serialization  15.282154   order\n",
       "2         2  serialization   9.406567  health\n",
       "3         3  serialization   1.558781   order\n",
       "4         4  serialization   4.910469  health"
      ]
     },
     "execution_count": 19,
     "metadata": {},
     "output_type": "execute_result"
    }
   ],
   "source": [
    "serialDF1 = datDF1[datDF1['process']=='serialization'].reset_index(drop=True)\n",
    "\n",
    "# convert seconds to miliseconds\n",
    "serialDF1['time'] = serialDF1['time']*1000\n",
    "\n",
    "serialDF1.head()"
   ]
  },
  {
   "cell_type": "code",
   "execution_count": 20,
   "id": "d15d0b1c",
   "metadata": {},
   "outputs": [
    {
     "data": {
      "text/html": [
       "<div>\n",
       "<style scoped>\n",
       "    .dataframe tbody tr th:only-of-type {\n",
       "        vertical-align: middle;\n",
       "    }\n",
       "\n",
       "    .dataframe tbody tr th {\n",
       "        vertical-align: top;\n",
       "    }\n",
       "\n",
       "    .dataframe thead th {\n",
       "        text-align: right;\n",
       "    }\n",
       "</style>\n",
       "<table border=\"1\" class=\"dataframe\">\n",
       "  <thead>\n",
       "    <tr style=\"text-align: right;\">\n",
       "      <th></th>\n",
       "      <th>iterStep</th>\n",
       "      <th>process</th>\n",
       "      <th>time</th>\n",
       "      <th>server</th>\n",
       "    </tr>\n",
       "  </thead>\n",
       "  <tbody>\n",
       "  </tbody>\n",
       "</table>\n",
       "</div>"
      ],
      "text/plain": [
       "Empty DataFrame\n",
       "Columns: [iterStep, process, time, server]\n",
       "Index: []"
      ]
     },
     "execution_count": 20,
     "metadata": {},
     "output_type": "execute_result"
    }
   ],
   "source": [
    "deserialDF1 = datDF1[datDF1['process']=='deserialization'].reset_index(drop=True)\n",
    "deserialDF1.head()"
   ]
  },
  {
   "cell_type": "code",
   "execution_count": 21,
   "id": "cbbb477b",
   "metadata": {},
   "outputs": [
    {
     "data": {
      "text/plain": [
       "<AxesSubplot:xlabel='time', ylabel='server'>"
      ]
     },
     "execution_count": 21,
     "metadata": {},
     "output_type": "execute_result"
    },
    {
     "data": {
      "text/plain": [
       "Text(0.5, 0, 'time (ms)')"
      ]
     },
     "execution_count": 21,
     "metadata": {},
     "output_type": "execute_result"
    },
    {
     "data": {
      "text/plain": [
       "Text(0, 0.5, 'Server Latency')"
      ]
     },
     "execution_count": 21,
     "metadata": {},
     "output_type": "execute_result"
    },
    {
     "data": {
      "image/png": "[encoded data removed]",
      "text/plain": [
       "<Figure size 640x480 with 1 Axes>"
      ]
     },
     "metadata": {},
     "output_type": "display_data"
    }
   ],
   "source": [
    "sns.boxplot(data=serialDF1, x=\"time\", y=\"server\")\n",
    "plt.xlabel('time (ms)', fontsize=12)\n",
    "plt.ylabel('Server Latency', fontsize=12)\n",
    "plt.show()"
   ]
  },
  {
   "cell_type": "code",
   "execution_count": 22,
   "id": "b8078150",
   "metadata": {},
   "outputs": [
    {
     "data": {
      "text/html": [
       "<div>\n",
       "<style scoped>\n",
       "    .dataframe tbody tr th:only-of-type {\n",
       "        vertical-align: middle;\n",
       "    }\n",
       "\n",
       "    .dataframe tbody tr th {\n",
       "        vertical-align: top;\n",
       "    }\n",
       "\n",
       "    .dataframe thead th {\n",
       "        text-align: right;\n",
       "    }\n",
       "</style>\n",
       "<table border=\"1\" class=\"dataframe\">\n",
       "  <thead>\n",
       "    <tr style=\"text-align: right;\">\n",
       "      <th></th>\n",
       "      <th>iterStep</th>\n",
       "      <th>process</th>\n",
       "      <th>time</th>\n",
       "      <th>server</th>\n",
       "    </tr>\n",
       "  </thead>\n",
       "  <tbody>\n",
       "    <tr>\n",
       "      <th>0</th>\n",
       "      <td>0</td>\n",
       "      <td>serialization</td>\n",
       "      <td>38.236141</td>\n",
       "      <td>health</td>\n",
       "    </tr>\n",
       "    <tr>\n",
       "      <th>1</th>\n",
       "      <td>2</td>\n",
       "      <td>serialization</td>\n",
       "      <td>9.406567</td>\n",
       "      <td>health</td>\n",
       "    </tr>\n",
       "    <tr>\n",
       "      <th>2</th>\n",
       "      <td>4</td>\n",
       "      <td>serialization</td>\n",
       "      <td>4.910469</td>\n",
       "      <td>health</td>\n",
       "    </tr>\n",
       "    <tr>\n",
       "      <th>3</th>\n",
       "      <td>6</td>\n",
       "      <td>serialization</td>\n",
       "      <td>2.169609</td>\n",
       "      <td>health</td>\n",
       "    </tr>\n",
       "    <tr>\n",
       "      <th>4</th>\n",
       "      <td>8</td>\n",
       "      <td>serialization</td>\n",
       "      <td>0.864506</td>\n",
       "      <td>health</td>\n",
       "    </tr>\n",
       "  </tbody>\n",
       "</table>\n",
       "</div>"
      ],
      "text/plain": [
       "   iterStep        process       time  server\n",
       "0         0  serialization  38.236141  health\n",
       "1         2  serialization   9.406567  health\n",
       "2         4  serialization   4.910469  health\n",
       "3         6  serialization   2.169609  health\n",
       "4         8  serialization   0.864506  health"
      ]
     },
     "execution_count": 22,
     "metadata": {},
     "output_type": "execute_result"
    },
    {
     "name": "stdout",
     "output_type": "stream",
     "text": [
      "Median value: 8.447\n"
     ]
    },
    {
     "data": {
      "text/html": [
       "<div>\n",
       "<style scoped>\n",
       "    .dataframe tbody tr th:only-of-type {\n",
       "        vertical-align: middle;\n",
       "    }\n",
       "\n",
       "    .dataframe tbody tr th {\n",
       "        vertical-align: top;\n",
       "    }\n",
       "\n",
       "    .dataframe thead th {\n",
       "        text-align: right;\n",
       "    }\n",
       "</style>\n",
       "<table border=\"1\" class=\"dataframe\">\n",
       "  <thead>\n",
       "    <tr style=\"text-align: right;\">\n",
       "      <th></th>\n",
       "      <th>iterStep</th>\n",
       "      <th>time</th>\n",
       "    </tr>\n",
       "  </thead>\n",
       "  <tbody>\n",
       "    <tr>\n",
       "      <th>count</th>\n",
       "      <td>1000.000000</td>\n",
       "      <td>1000.000000</td>\n",
       "    </tr>\n",
       "    <tr>\n",
       "      <th>mean</th>\n",
       "      <td>999.000000</td>\n",
       "      <td>11.208754</td>\n",
       "    </tr>\n",
       "    <tr>\n",
       "      <th>std</th>\n",
       "      <td>577.638872</td>\n",
       "      <td>10.484747</td>\n",
       "    </tr>\n",
       "    <tr>\n",
       "      <th>min</th>\n",
       "      <td>0.000000</td>\n",
       "      <td>0.687838</td>\n",
       "    </tr>\n",
       "    <tr>\n",
       "      <th>25%</th>\n",
       "      <td>499.500000</td>\n",
       "      <td>3.250659</td>\n",
       "    </tr>\n",
       "    <tr>\n",
       "      <th>50%</th>\n",
       "      <td>999.000000</td>\n",
       "      <td>8.446932</td>\n",
       "    </tr>\n",
       "    <tr>\n",
       "      <th>75%</th>\n",
       "      <td>1498.500000</td>\n",
       "      <td>15.688717</td>\n",
       "    </tr>\n",
       "    <tr>\n",
       "      <th>max</th>\n",
       "      <td>1998.000000</td>\n",
       "      <td>73.062420</td>\n",
       "    </tr>\n",
       "  </tbody>\n",
       "</table>\n",
       "</div>"
      ],
      "text/plain": [
       "          iterStep         time\n",
       "count  1000.000000  1000.000000\n",
       "mean    999.000000    11.208754\n",
       "std     577.638872    10.484747\n",
       "min       0.000000     0.687838\n",
       "25%     499.500000     3.250659\n",
       "50%     999.000000     8.446932\n",
       "75%    1498.500000    15.688717\n",
       "max    1998.000000    73.062420"
      ]
     },
     "execution_count": 22,
     "metadata": {},
     "output_type": "execute_result"
    }
   ],
   "source": [
    "tmpHealth1 = serialDF1[serialDF1['server']=='health'].reset_index(drop=True)\n",
    "tmpHealth1.head()\n",
    "print(\"Median value: {}\".format(np.round_(np.median(tmpHealth1['time']),3)))\n",
    "tmpHealth1.describe()"
   ]
  },
  {
   "cell_type": "code",
   "execution_count": 23,
   "id": "a3e67086",
   "metadata": {},
   "outputs": [
    {
     "data": {
      "text/html": [
       "<div>\n",
       "<style scoped>\n",
       "    .dataframe tbody tr th:only-of-type {\n",
       "        vertical-align: middle;\n",
       "    }\n",
       "\n",
       "    .dataframe tbody tr th {\n",
       "        vertical-align: top;\n",
       "    }\n",
       "\n",
       "    .dataframe thead th {\n",
       "        text-align: right;\n",
       "    }\n",
       "</style>\n",
       "<table border=\"1\" class=\"dataframe\">\n",
       "  <thead>\n",
       "    <tr style=\"text-align: right;\">\n",
       "      <th></th>\n",
       "      <th>iterStep</th>\n",
       "      <th>process</th>\n",
       "      <th>time</th>\n",
       "      <th>server</th>\n",
       "    </tr>\n",
       "  </thead>\n",
       "  <tbody>\n",
       "    <tr>\n",
       "      <th>0</th>\n",
       "      <td>1</td>\n",
       "      <td>serialization</td>\n",
       "      <td>15.282154</td>\n",
       "      <td>order</td>\n",
       "    </tr>\n",
       "    <tr>\n",
       "      <th>1</th>\n",
       "      <td>3</td>\n",
       "      <td>serialization</td>\n",
       "      <td>1.558781</td>\n",
       "      <td>order</td>\n",
       "    </tr>\n",
       "    <tr>\n",
       "      <th>2</th>\n",
       "      <td>5</td>\n",
       "      <td>serialization</td>\n",
       "      <td>8.753061</td>\n",
       "      <td>order</td>\n",
       "    </tr>\n",
       "    <tr>\n",
       "      <th>3</th>\n",
       "      <td>7</td>\n",
       "      <td>serialization</td>\n",
       "      <td>1.315117</td>\n",
       "      <td>order</td>\n",
       "    </tr>\n",
       "    <tr>\n",
       "      <th>4</th>\n",
       "      <td>9</td>\n",
       "      <td>serialization</td>\n",
       "      <td>20.848274</td>\n",
       "      <td>order</td>\n",
       "    </tr>\n",
       "  </tbody>\n",
       "</table>\n",
       "</div>"
      ],
      "text/plain": [
       "   iterStep        process       time server\n",
       "0         1  serialization  15.282154  order\n",
       "1         3  serialization   1.558781  order\n",
       "2         5  serialization   8.753061  order\n",
       "3         7  serialization   1.315117  order\n",
       "4         9  serialization  20.848274  order"
      ]
     },
     "execution_count": 23,
     "metadata": {},
     "output_type": "execute_result"
    },
    {
     "name": "stdout",
     "output_type": "stream",
     "text": [
      "Median value: 19.451\n"
     ]
    },
    {
     "data": {
      "text/html": [
       "<div>\n",
       "<style scoped>\n",
       "    .dataframe tbody tr th:only-of-type {\n",
       "        vertical-align: middle;\n",
       "    }\n",
       "\n",
       "    .dataframe tbody tr th {\n",
       "        vertical-align: top;\n",
       "    }\n",
       "\n",
       "    .dataframe thead th {\n",
       "        text-align: right;\n",
       "    }\n",
       "</style>\n",
       "<table border=\"1\" class=\"dataframe\">\n",
       "  <thead>\n",
       "    <tr style=\"text-align: right;\">\n",
       "      <th></th>\n",
       "      <th>iterStep</th>\n",
       "      <th>time</th>\n",
       "    </tr>\n",
       "  </thead>\n",
       "  <tbody>\n",
       "    <tr>\n",
       "      <th>count</th>\n",
       "      <td>1000.000000</td>\n",
       "      <td>1000.000000</td>\n",
       "    </tr>\n",
       "    <tr>\n",
       "      <th>mean</th>\n",
       "      <td>1000.000000</td>\n",
       "      <td>22.242074</td>\n",
       "    </tr>\n",
       "    <tr>\n",
       "      <th>std</th>\n",
       "      <td>577.638872</td>\n",
       "      <td>15.316566</td>\n",
       "    </tr>\n",
       "    <tr>\n",
       "      <th>min</th>\n",
       "      <td>1.000000</td>\n",
       "      <td>1.237869</td>\n",
       "    </tr>\n",
       "    <tr>\n",
       "      <th>25%</th>\n",
       "      <td>500.500000</td>\n",
       "      <td>10.831952</td>\n",
       "    </tr>\n",
       "    <tr>\n",
       "      <th>50%</th>\n",
       "      <td>1000.000000</td>\n",
       "      <td>19.450903</td>\n",
       "    </tr>\n",
       "    <tr>\n",
       "      <th>75%</th>\n",
       "      <td>1499.500000</td>\n",
       "      <td>30.449092</td>\n",
       "    </tr>\n",
       "    <tr>\n",
       "      <th>max</th>\n",
       "      <td>1999.000000</td>\n",
       "      <td>104.173183</td>\n",
       "    </tr>\n",
       "  </tbody>\n",
       "</table>\n",
       "</div>"
      ],
      "text/plain": [
       "          iterStep         time\n",
       "count  1000.000000  1000.000000\n",
       "mean   1000.000000    22.242074\n",
       "std     577.638872    15.316566\n",
       "min       1.000000     1.237869\n",
       "25%     500.500000    10.831952\n",
       "50%    1000.000000    19.450903\n",
       "75%    1499.500000    30.449092\n",
       "max    1999.000000   104.173183"
      ]
     },
     "execution_count": 23,
     "metadata": {},
     "output_type": "execute_result"
    }
   ],
   "source": [
    "tmpOrder1 = serialDF1[serialDF1['server']=='order'].reset_index(drop=True)\n",
    "tmpOrder1.head()\n",
    "print(\"Median value: {}\".format(np.round_(np.median(tmpOrder1['time']),3)))\n",
    "tmpOrder1.describe()"
   ]
  },
  {
   "cell_type": "markdown",
   "id": "200c9d4d",
   "metadata": {},
   "source": [
    "# Linkerd Balancer"
   ]
  },
  {
   "cell_type": "code",
   "execution_count": 24,
   "id": "b6f7bcd7",
   "metadata": {},
   "outputs": [],
   "source": [
    "file2 = pd.read_csv(work_dir+filePaths[2], sep=',')"
   ]
  },
  {
   "cell_type": "code",
   "execution_count": 25,
   "id": "0aad5980",
   "metadata": {},
   "outputs": [
    {
     "data": {
      "text/html": [
       "<div>\n",
       "<style scoped>\n",
       "    .dataframe tbody tr th:only-of-type {\n",
       "        vertical-align: middle;\n",
       "    }\n",
       "\n",
       "    .dataframe tbody tr th {\n",
       "        vertical-align: top;\n",
       "    }\n",
       "\n",
       "    .dataframe thead th {\n",
       "        text-align: right;\n",
       "    }\n",
       "</style>\n",
       "<table border=\"1\" class=\"dataframe\">\n",
       "  <thead>\n",
       "    <tr style=\"text-align: right;\">\n",
       "      <th></th>\n",
       "      <th>iterStep</th>\n",
       "      <th>process</th>\n",
       "      <th>time</th>\n",
       "    </tr>\n",
       "  </thead>\n",
       "  <tbody>\n",
       "    <tr>\n",
       "      <th>0</th>\n",
       "      <td>0</td>\n",
       "      <td>health serialization</td>\n",
       "      <td>0.074676</td>\n",
       "    </tr>\n",
       "    <tr>\n",
       "      <th>1</th>\n",
       "      <td>1</td>\n",
       "      <td>order serialization</td>\n",
       "      <td>0.074428</td>\n",
       "    </tr>\n",
       "    <tr>\n",
       "      <th>2</th>\n",
       "      <td>2</td>\n",
       "      <td>health serialization</td>\n",
       "      <td>0.016539</td>\n",
       "    </tr>\n",
       "    <tr>\n",
       "      <th>3</th>\n",
       "      <td>3</td>\n",
       "      <td>order serialization</td>\n",
       "      <td>0.008974</td>\n",
       "    </tr>\n",
       "    <tr>\n",
       "      <th>4</th>\n",
       "      <td>4</td>\n",
       "      <td>health serialization</td>\n",
       "      <td>0.033329</td>\n",
       "    </tr>\n",
       "  </tbody>\n",
       "</table>\n",
       "</div>"
      ],
      "text/plain": [
       "   iterStep               process      time\n",
       "0         0  health serialization  0.074676\n",
       "1         1   order serialization  0.074428\n",
       "2         2  health serialization  0.016539\n",
       "3         3   order serialization  0.008974\n",
       "4         4  health serialization  0.033329"
      ]
     },
     "execution_count": 25,
     "metadata": {},
     "output_type": "execute_result"
    }
   ],
   "source": [
    "file2.head()"
   ]
  },
  {
   "cell_type": "code",
   "execution_count": 26,
   "id": "ef87acfd",
   "metadata": {},
   "outputs": [
    {
     "data": {
      "text/html": [
       "<div>\n",
       "<style scoped>\n",
       "    .dataframe tbody tr th:only-of-type {\n",
       "        vertical-align: middle;\n",
       "    }\n",
       "\n",
       "    .dataframe tbody tr th {\n",
       "        vertical-align: top;\n",
       "    }\n",
       "\n",
       "    .dataframe thead th {\n",
       "        text-align: right;\n",
       "    }\n",
       "</style>\n",
       "<table border=\"1\" class=\"dataframe\">\n",
       "  <thead>\n",
       "    <tr style=\"text-align: right;\">\n",
       "      <th></th>\n",
       "      <th>iterStep</th>\n",
       "      <th>process</th>\n",
       "      <th>time</th>\n",
       "    </tr>\n",
       "  </thead>\n",
       "  <tbody>\n",
       "    <tr>\n",
       "      <th>0</th>\n",
       "      <td>0</td>\n",
       "      <td>health serialization</td>\n",
       "      <td>0.038236</td>\n",
       "    </tr>\n",
       "    <tr>\n",
       "      <th>1</th>\n",
       "      <td>1</td>\n",
       "      <td>order serialization</td>\n",
       "      <td>0.015282</td>\n",
       "    </tr>\n",
       "    <tr>\n",
       "      <th>2</th>\n",
       "      <td>2</td>\n",
       "      <td>health serialization</td>\n",
       "      <td>0.009407</td>\n",
       "    </tr>\n",
       "    <tr>\n",
       "      <th>3</th>\n",
       "      <td>3</td>\n",
       "      <td>order serialization</td>\n",
       "      <td>0.001559</td>\n",
       "    </tr>\n",
       "    <tr>\n",
       "      <th>4</th>\n",
       "      <td>4</td>\n",
       "      <td>health serialization</td>\n",
       "      <td>0.004910</td>\n",
       "    </tr>\n",
       "  </tbody>\n",
       "</table>\n",
       "</div>"
      ],
      "text/plain": [
       "   iterStep               process      time\n",
       "0         0  health serialization  0.038236\n",
       "1         1   order serialization  0.015282\n",
       "2         2  health serialization  0.009407\n",
       "3         3   order serialization  0.001559\n",
       "4         4  health serialization  0.004910"
      ]
     },
     "execution_count": 26,
     "metadata": {},
     "output_type": "execute_result"
    }
   ],
   "source": [
    "datDF2 = file1.copy()\n",
    "datDF2['iterStep'] = datDF2['iterStep'].astype(int)\n",
    "datDF2['process'] = datDF2['process'].astype(str)\n",
    "datDF2['time'] = datDF2['time'].astype(float)\n",
    "datDF2.head()"
   ]
  },
  {
   "cell_type": "code",
   "execution_count": 27,
   "id": "1812199f",
   "metadata": {},
   "outputs": [],
   "source": [
    "tmpLST = []\n",
    "for i in range(len(datDF2)):\n",
    "    if 'health' in datDF2['process'][i].lower():\n",
    "        tmpLST.append(\"health\")\n",
    "        datDF2.at[i,'process'] = datDF2['process'][i].lower().replace('health ',\"\")\n",
    "\n",
    "    if 'order' in datDF2['process'][i].lower():\n",
    "        tmpLST.append(\"order\")\n",
    "        datDF2.at[i,'process'] = datDF2['process'][i].lower().replace('order ',\"\")\n",
    "    \n",
    "datDF2['server'] = tmpLST"
   ]
  },
  {
   "cell_type": "code",
   "execution_count": 28,
   "id": "78875f6d",
   "metadata": {},
   "outputs": [
    {
     "data": {
      "text/html": [
       "<div>\n",
       "<style scoped>\n",
       "    .dataframe tbody tr th:only-of-type {\n",
       "        vertical-align: middle;\n",
       "    }\n",
       "\n",
       "    .dataframe tbody tr th {\n",
       "        vertical-align: top;\n",
       "    }\n",
       "\n",
       "    .dataframe thead th {\n",
       "        text-align: right;\n",
       "    }\n",
       "</style>\n",
       "<table border=\"1\" class=\"dataframe\">\n",
       "  <thead>\n",
       "    <tr style=\"text-align: right;\">\n",
       "      <th></th>\n",
       "      <th>iterStep</th>\n",
       "      <th>process</th>\n",
       "      <th>time</th>\n",
       "      <th>server</th>\n",
       "    </tr>\n",
       "  </thead>\n",
       "  <tbody>\n",
       "    <tr>\n",
       "      <th>0</th>\n",
       "      <td>0</td>\n",
       "      <td>serialization</td>\n",
       "      <td>0.038236</td>\n",
       "      <td>health</td>\n",
       "    </tr>\n",
       "    <tr>\n",
       "      <th>1</th>\n",
       "      <td>1</td>\n",
       "      <td>serialization</td>\n",
       "      <td>0.015282</td>\n",
       "      <td>order</td>\n",
       "    </tr>\n",
       "    <tr>\n",
       "      <th>2</th>\n",
       "      <td>2</td>\n",
       "      <td>serialization</td>\n",
       "      <td>0.009407</td>\n",
       "      <td>health</td>\n",
       "    </tr>\n",
       "    <tr>\n",
       "      <th>3</th>\n",
       "      <td>3</td>\n",
       "      <td>serialization</td>\n",
       "      <td>0.001559</td>\n",
       "      <td>order</td>\n",
       "    </tr>\n",
       "    <tr>\n",
       "      <th>4</th>\n",
       "      <td>4</td>\n",
       "      <td>serialization</td>\n",
       "      <td>0.004910</td>\n",
       "      <td>health</td>\n",
       "    </tr>\n",
       "  </tbody>\n",
       "</table>\n",
       "</div>"
      ],
      "text/plain": [
       "   iterStep        process      time  server\n",
       "0         0  serialization  0.038236  health\n",
       "1         1  serialization  0.015282   order\n",
       "2         2  serialization  0.009407  health\n",
       "3         3  serialization  0.001559   order\n",
       "4         4  serialization  0.004910  health"
      ]
     },
     "execution_count": 28,
     "metadata": {},
     "output_type": "execute_result"
    }
   ],
   "source": [
    "datDF2.head()"
   ]
  },
  {
   "cell_type": "code",
   "execution_count": 29,
   "id": "a7970d4b",
   "metadata": {},
   "outputs": [
    {
     "data": {
      "text/html": [
       "<div>\n",
       "<style scoped>\n",
       "    .dataframe tbody tr th:only-of-type {\n",
       "        vertical-align: middle;\n",
       "    }\n",
       "\n",
       "    .dataframe tbody tr th {\n",
       "        vertical-align: top;\n",
       "    }\n",
       "\n",
       "    .dataframe thead th {\n",
       "        text-align: right;\n",
       "    }\n",
       "</style>\n",
       "<table border=\"1\" class=\"dataframe\">\n",
       "  <thead>\n",
       "    <tr style=\"text-align: right;\">\n",
       "      <th></th>\n",
       "      <th>iterStep</th>\n",
       "      <th>process</th>\n",
       "      <th>time</th>\n",
       "      <th>server</th>\n",
       "    </tr>\n",
       "  </thead>\n",
       "  <tbody>\n",
       "    <tr>\n",
       "      <th>0</th>\n",
       "      <td>0</td>\n",
       "      <td>serialization</td>\n",
       "      <td>38.236141</td>\n",
       "      <td>health</td>\n",
       "    </tr>\n",
       "    <tr>\n",
       "      <th>1</th>\n",
       "      <td>1</td>\n",
       "      <td>serialization</td>\n",
       "      <td>15.282154</td>\n",
       "      <td>order</td>\n",
       "    </tr>\n",
       "    <tr>\n",
       "      <th>2</th>\n",
       "      <td>2</td>\n",
       "      <td>serialization</td>\n",
       "      <td>9.406567</td>\n",
       "      <td>health</td>\n",
       "    </tr>\n",
       "    <tr>\n",
       "      <th>3</th>\n",
       "      <td>3</td>\n",
       "      <td>serialization</td>\n",
       "      <td>1.558781</td>\n",
       "      <td>order</td>\n",
       "    </tr>\n",
       "    <tr>\n",
       "      <th>4</th>\n",
       "      <td>4</td>\n",
       "      <td>serialization</td>\n",
       "      <td>4.910469</td>\n",
       "      <td>health</td>\n",
       "    </tr>\n",
       "  </tbody>\n",
       "</table>\n",
       "</div>"
      ],
      "text/plain": [
       "   iterStep        process       time  server\n",
       "0         0  serialization  38.236141  health\n",
       "1         1  serialization  15.282154   order\n",
       "2         2  serialization   9.406567  health\n",
       "3         3  serialization   1.558781   order\n",
       "4         4  serialization   4.910469  health"
      ]
     },
     "execution_count": 29,
     "metadata": {},
     "output_type": "execute_result"
    }
   ],
   "source": [
    "serialDF2 = datDF2[datDF2['process']=='serialization'].reset_index(drop=True)\n",
    "\n",
    "# convert seconds to miliseconds\n",
    "serialDF2['time'] = serialDF2['time']*1000\n",
    "\n",
    "serialDF2.head()"
   ]
  },
  {
   "cell_type": "code",
   "execution_count": 30,
   "id": "4b7a699d",
   "metadata": {},
   "outputs": [
    {
     "data": {
      "text/html": [
       "<div>\n",
       "<style scoped>\n",
       "    .dataframe tbody tr th:only-of-type {\n",
       "        vertical-align: middle;\n",
       "    }\n",
       "\n",
       "    .dataframe tbody tr th {\n",
       "        vertical-align: top;\n",
       "    }\n",
       "\n",
       "    .dataframe thead th {\n",
       "        text-align: right;\n",
       "    }\n",
       "</style>\n",
       "<table border=\"1\" class=\"dataframe\">\n",
       "  <thead>\n",
       "    <tr style=\"text-align: right;\">\n",
       "      <th></th>\n",
       "      <th>iterStep</th>\n",
       "      <th>process</th>\n",
       "      <th>time</th>\n",
       "      <th>server</th>\n",
       "    </tr>\n",
       "  </thead>\n",
       "  <tbody>\n",
       "  </tbody>\n",
       "</table>\n",
       "</div>"
      ],
      "text/plain": [
       "Empty DataFrame\n",
       "Columns: [iterStep, process, time, server]\n",
       "Index: []"
      ]
     },
     "execution_count": 30,
     "metadata": {},
     "output_type": "execute_result"
    }
   ],
   "source": [
    "deserialDF2 = datDF2[datDF2['process']=='deserialization'].reset_index(drop=True)\n",
    "deserialDF2.head()"
   ]
  },
  {
   "cell_type": "code",
   "execution_count": 31,
   "id": "68b5003b",
   "metadata": {},
   "outputs": [
    {
     "data": {
      "text/plain": [
       "<AxesSubplot:xlabel='time', ylabel='server'>"
      ]
     },
     "execution_count": 31,
     "metadata": {},
     "output_type": "execute_result"
    },
    {
     "data": {
      "text/plain": [
       "Text(0.5, 0, 'time (ms)')"
      ]
     },
     "execution_count": 31,
     "metadata": {},
     "output_type": "execute_result"
    },
    {
     "data": {
      "text/plain": [
       "Text(0, 0.5, 'Server Latency')"
      ]
     },
     "execution_count": 31,
     "metadata": {},
     "output_type": "execute_result"
    },
    {
     "data": {
      "image/png": "[encoded data removed]",
      "text/plain": [
       "<Figure size 640x480 with 1 Axes>"
      ]
     },
     "metadata": {},
     "output_type": "display_data"
    }
   ],
   "source": [
    "sns.boxplot(data=serialDF2, x=\"time\", y=\"server\")\n",
    "plt.xlabel('time (ms)', fontsize=12)\n",
    "plt.ylabel('Server Latency', fontsize=12)\n",
    "plt.show()"
   ]
  },
  {
   "cell_type": "code",
   "execution_count": 32,
   "id": "3b35830f",
   "metadata": {},
   "outputs": [
    {
     "data": {
      "text/html": [
       "<div>\n",
       "<style scoped>\n",
       "    .dataframe tbody tr th:only-of-type {\n",
       "        vertical-align: middle;\n",
       "    }\n",
       "\n",
       "    .dataframe tbody tr th {\n",
       "        vertical-align: top;\n",
       "    }\n",
       "\n",
       "    .dataframe thead th {\n",
       "        text-align: right;\n",
       "    }\n",
       "</style>\n",
       "<table border=\"1\" class=\"dataframe\">\n",
       "  <thead>\n",
       "    <tr style=\"text-align: right;\">\n",
       "      <th></th>\n",
       "      <th>iterStep</th>\n",
       "      <th>process</th>\n",
       "      <th>time</th>\n",
       "      <th>server</th>\n",
       "    </tr>\n",
       "  </thead>\n",
       "  <tbody>\n",
       "    <tr>\n",
       "      <th>0</th>\n",
       "      <td>0</td>\n",
       "      <td>serialization</td>\n",
       "      <td>38.236141</td>\n",
       "      <td>health</td>\n",
       "    </tr>\n",
       "    <tr>\n",
       "      <th>1</th>\n",
       "      <td>2</td>\n",
       "      <td>serialization</td>\n",
       "      <td>9.406567</td>\n",
       "      <td>health</td>\n",
       "    </tr>\n",
       "    <tr>\n",
       "      <th>2</th>\n",
       "      <td>4</td>\n",
       "      <td>serialization</td>\n",
       "      <td>4.910469</td>\n",
       "      <td>health</td>\n",
       "    </tr>\n",
       "    <tr>\n",
       "      <th>3</th>\n",
       "      <td>6</td>\n",
       "      <td>serialization</td>\n",
       "      <td>2.169609</td>\n",
       "      <td>health</td>\n",
       "    </tr>\n",
       "    <tr>\n",
       "      <th>4</th>\n",
       "      <td>8</td>\n",
       "      <td>serialization</td>\n",
       "      <td>0.864506</td>\n",
       "      <td>health</td>\n",
       "    </tr>\n",
       "  </tbody>\n",
       "</table>\n",
       "</div>"
      ],
      "text/plain": [
       "   iterStep        process       time  server\n",
       "0         0  serialization  38.236141  health\n",
       "1         2  serialization   9.406567  health\n",
       "2         4  serialization   4.910469  health\n",
       "3         6  serialization   2.169609  health\n",
       "4         8  serialization   0.864506  health"
      ]
     },
     "execution_count": 32,
     "metadata": {},
     "output_type": "execute_result"
    },
    {
     "name": "stdout",
     "output_type": "stream",
     "text": [
      "Median value: 8.447\n"
     ]
    },
    {
     "data": {
      "text/html": [
       "<div>\n",
       "<style scoped>\n",
       "    .dataframe tbody tr th:only-of-type {\n",
       "        vertical-align: middle;\n",
       "    }\n",
       "\n",
       "    .dataframe tbody tr th {\n",
       "        vertical-align: top;\n",
       "    }\n",
       "\n",
       "    .dataframe thead th {\n",
       "        text-align: right;\n",
       "    }\n",
       "</style>\n",
       "<table border=\"1\" class=\"dataframe\">\n",
       "  <thead>\n",
       "    <tr style=\"text-align: right;\">\n",
       "      <th></th>\n",
       "      <th>iterStep</th>\n",
       "      <th>time</th>\n",
       "    </tr>\n",
       "  </thead>\n",
       "  <tbody>\n",
       "    <tr>\n",
       "      <th>count</th>\n",
       "      <td>1000.000000</td>\n",
       "      <td>1000.000000</td>\n",
       "    </tr>\n",
       "    <tr>\n",
       "      <th>mean</th>\n",
       "      <td>999.000000</td>\n",
       "      <td>11.208754</td>\n",
       "    </tr>\n",
       "    <tr>\n",
       "      <th>std</th>\n",
       "      <td>577.638872</td>\n",
       "      <td>10.484747</td>\n",
       "    </tr>\n",
       "    <tr>\n",
       "      <th>min</th>\n",
       "      <td>0.000000</td>\n",
       "      <td>0.687838</td>\n",
       "    </tr>\n",
       "    <tr>\n",
       "      <th>25%</th>\n",
       "      <td>499.500000</td>\n",
       "      <td>3.250659</td>\n",
       "    </tr>\n",
       "    <tr>\n",
       "      <th>50%</th>\n",
       "      <td>999.000000</td>\n",
       "      <td>8.446932</td>\n",
       "    </tr>\n",
       "    <tr>\n",
       "      <th>75%</th>\n",
       "      <td>1498.500000</td>\n",
       "      <td>15.688717</td>\n",
       "    </tr>\n",
       "    <tr>\n",
       "      <th>max</th>\n",
       "      <td>1998.000000</td>\n",
       "      <td>73.062420</td>\n",
       "    </tr>\n",
       "  </tbody>\n",
       "</table>\n",
       "</div>"
      ],
      "text/plain": [
       "          iterStep         time\n",
       "count  1000.000000  1000.000000\n",
       "mean    999.000000    11.208754\n",
       "std     577.638872    10.484747\n",
       "min       0.000000     0.687838\n",
       "25%     499.500000     3.250659\n",
       "50%     999.000000     8.446932\n",
       "75%    1498.500000    15.688717\n",
       "max    1998.000000    73.062420"
      ]
     },
     "execution_count": 32,
     "metadata": {},
     "output_type": "execute_result"
    }
   ],
   "source": [
    "tmpHealth2 = serialDF2[serialDF2['server']=='health'].reset_index(drop=True)\n",
    "tmpHealth2.head()\n",
    "print(\"Median value: {}\".format(np.round_(np.median(tmpHealth2['time']),3)))\n",
    "tmpHealth2.describe()"
   ]
  },
  {
   "cell_type": "code",
   "execution_count": 33,
   "id": "546693db",
   "metadata": {},
   "outputs": [
    {
     "data": {
      "text/html": [
       "<div>\n",
       "<style scoped>\n",
       "    .dataframe tbody tr th:only-of-type {\n",
       "        vertical-align: middle;\n",
       "    }\n",
       "\n",
       "    .dataframe tbody tr th {\n",
       "        vertical-align: top;\n",
       "    }\n",
       "\n",
       "    .dataframe thead th {\n",
       "        text-align: right;\n",
       "    }\n",
       "</style>\n",
       "<table border=\"1\" class=\"dataframe\">\n",
       "  <thead>\n",
       "    <tr style=\"text-align: right;\">\n",
       "      <th></th>\n",
       "      <th>iterStep</th>\n",
       "      <th>process</th>\n",
       "      <th>time</th>\n",
       "      <th>server</th>\n",
       "    </tr>\n",
       "  </thead>\n",
       "  <tbody>\n",
       "    <tr>\n",
       "      <th>0</th>\n",
       "      <td>1</td>\n",
       "      <td>serialization</td>\n",
       "      <td>15.282154</td>\n",
       "      <td>order</td>\n",
       "    </tr>\n",
       "    <tr>\n",
       "      <th>1</th>\n",
       "      <td>3</td>\n",
       "      <td>serialization</td>\n",
       "      <td>1.558781</td>\n",
       "      <td>order</td>\n",
       "    </tr>\n",
       "    <tr>\n",
       "      <th>2</th>\n",
       "      <td>5</td>\n",
       "      <td>serialization</td>\n",
       "      <td>8.753061</td>\n",
       "      <td>order</td>\n",
       "    </tr>\n",
       "    <tr>\n",
       "      <th>3</th>\n",
       "      <td>7</td>\n",
       "      <td>serialization</td>\n",
       "      <td>1.315117</td>\n",
       "      <td>order</td>\n",
       "    </tr>\n",
       "    <tr>\n",
       "      <th>4</th>\n",
       "      <td>9</td>\n",
       "      <td>serialization</td>\n",
       "      <td>20.848274</td>\n",
       "      <td>order</td>\n",
       "    </tr>\n",
       "  </tbody>\n",
       "</table>\n",
       "</div>"
      ],
      "text/plain": [
       "   iterStep        process       time server\n",
       "0         1  serialization  15.282154  order\n",
       "1         3  serialization   1.558781  order\n",
       "2         5  serialization   8.753061  order\n",
       "3         7  serialization   1.315117  order\n",
       "4         9  serialization  20.848274  order"
      ]
     },
     "execution_count": 33,
     "metadata": {},
     "output_type": "execute_result"
    },
    {
     "name": "stdout",
     "output_type": "stream",
     "text": [
      "Median value: 19.451\n"
     ]
    },
    {
     "data": {
      "text/html": [
       "<div>\n",
       "<style scoped>\n",
       "    .dataframe tbody tr th:only-of-type {\n",
       "        vertical-align: middle;\n",
       "    }\n",
       "\n",
       "    .dataframe tbody tr th {\n",
       "        vertical-align: top;\n",
       "    }\n",
       "\n",
       "    .dataframe thead th {\n",
       "        text-align: right;\n",
       "    }\n",
       "</style>\n",
       "<table border=\"1\" class=\"dataframe\">\n",
       "  <thead>\n",
       "    <tr style=\"text-align: right;\">\n",
       "      <th></th>\n",
       "      <th>iterStep</th>\n",
       "      <th>time</th>\n",
       "    </tr>\n",
       "  </thead>\n",
       "  <tbody>\n",
       "    <tr>\n",
       "      <th>count</th>\n",
       "      <td>1000.000000</td>\n",
       "      <td>1000.000000</td>\n",
       "    </tr>\n",
       "    <tr>\n",
       "      <th>mean</th>\n",
       "      <td>1000.000000</td>\n",
       "      <td>22.242074</td>\n",
       "    </tr>\n",
       "    <tr>\n",
       "      <th>std</th>\n",
       "      <td>577.638872</td>\n",
       "      <td>15.316566</td>\n",
       "    </tr>\n",
       "    <tr>\n",
       "      <th>min</th>\n",
       "      <td>1.000000</td>\n",
       "      <td>1.237869</td>\n",
       "    </tr>\n",
       "    <tr>\n",
       "      <th>25%</th>\n",
       "      <td>500.500000</td>\n",
       "      <td>10.831952</td>\n",
       "    </tr>\n",
       "    <tr>\n",
       "      <th>50%</th>\n",
       "      <td>1000.000000</td>\n",
       "      <td>19.450903</td>\n",
       "    </tr>\n",
       "    <tr>\n",
       "      <th>75%</th>\n",
       "      <td>1499.500000</td>\n",
       "      <td>30.449092</td>\n",
       "    </tr>\n",
       "    <tr>\n",
       "      <th>max</th>\n",
       "      <td>1999.000000</td>\n",
       "      <td>104.173183</td>\n",
       "    </tr>\n",
       "  </tbody>\n",
       "</table>\n",
       "</div>"
      ],
      "text/plain": [
       "          iterStep         time\n",
       "count  1000.000000  1000.000000\n",
       "mean   1000.000000    22.242074\n",
       "std     577.638872    15.316566\n",
       "min       1.000000     1.237869\n",
       "25%     500.500000    10.831952\n",
       "50%    1000.000000    19.450903\n",
       "75%    1499.500000    30.449092\n",
       "max    1999.000000   104.173183"
      ]
     },
     "execution_count": 33,
     "metadata": {},
     "output_type": "execute_result"
    }
   ],
   "source": [
    "tmpOrder2 = serialDF2[serialDF2['server']=='order'].reset_index(drop=True)\n",
    "tmpOrder2.head()\n",
    "print(\"Median value: {}\".format(np.round_(np.median(tmpOrder2['time']),3)))\n",
    "tmpOrder2.describe()"
   ]
  },
  {
   "cell_type": "code",
   "execution_count": 34,
   "id": "112fdb12",
   "metadata": {},
   "outputs": [],
   "source": [
    "import scipy.stats as stats"
   ]
  },
  {
   "cell_type": "markdown",
   "id": "9d938123",
   "metadata": {},
   "source": [
    "# Two Sample t-Test for Health Server"
   ]
  },
  {
   "cell_type": "code",
   "execution_count": 35,
   "id": "2cbccb00",
   "metadata": {},
   "outputs": [],
   "source": [
    "group0 = tmpHealth['time'].values\n",
    "group1 = tmpHealth1['time'].values\n",
    "group2 = tmpHealth2['time'].values"
   ]
  },
  {
   "cell_type": "markdown",
   "id": "b5d5982d",
   "metadata": {},
   "source": [
    "Before we perform the test, we need to decide if we’ll assume the two populations have equal variances or not. As a rule of thumb, we can assume the populations have equal variances if the ratio of the larger sample variance to the smaller sample variance is less than 4:1."
   ]
  },
  {
   "cell_type": "code",
   "execution_count": 36,
   "id": "fa7dec49",
   "metadata": {},
   "outputs": [
    {
     "name": "stdout",
     "output_type": "stream",
     "text": [
      "X1: 150.66176539977914 | X2: 109.81999556553978\n",
      "\n",
      "X1 is larger\n",
      "1.3718973910344523\n"
     ]
    }
   ],
   "source": [
    "tmp_x1 = group0\n",
    "tmp_x2 = group1\n",
    "\n",
    "#find variance for each group\n",
    "print(\"X1: {} | X2: {}\\n\".format(np.var(tmp_x1), np.var(tmp_x2)))\n",
    "\n",
    "if np.var(tmp_x1)>=np.var(tmp_x2):\n",
    "    print(\"X1 is larger\")\n",
    "    print(np.var(tmp_x1)/np.var(tmp_x2))\n",
    "else:\n",
    "    print(\"X2 is larger\")\n",
    "    print(np.var(tmp_x2)/np.var(tmp_x1))"
   ]
  },
  {
   "cell_type": "code",
   "execution_count": 37,
   "id": "61860231",
   "metadata": {},
   "outputs": [
    {
     "name": "stdout",
     "output_type": "stream",
     "text": [
      "X1: 150.66176539977914 | X2: 109.81999556553978\n",
      "\n",
      "X1 is larger\n",
      "1.3718973910344523\n"
     ]
    }
   ],
   "source": [
    "tmp_x1 = group0\n",
    "tmp_x2 = group2\n",
    "\n",
    "#find variance for each group\n",
    "print(\"X1: {} | X2: {}\\n\".format(np.var(tmp_x1), np.var(tmp_x2)))\n",
    "\n",
    "if np.var(tmp_x1)>=np.var(tmp_x2):\n",
    "    print(\"X1 is larger\")\n",
    "    print(np.var(tmp_x1)/np.var(tmp_x2))\n",
    "else:\n",
    "    print(\"X2 is larger\")\n",
    "    print(np.var(tmp_x2)/np.var(tmp_x1))"
   ]
  },
  {
   "cell_type": "code",
   "execution_count": 38,
   "id": "663effd3",
   "metadata": {},
   "outputs": [
    {
     "name": "stdout",
     "output_type": "stream",
     "text": [
      "X1: 109.81999556553978 | X2: 109.81999556553978\n",
      "\n",
      "X1 is larger\n",
      "1.0\n"
     ]
    }
   ],
   "source": [
    "tmp_x1 = group1\n",
    "tmp_x2 = group2\n",
    "\n",
    "#find variance for each group\n",
    "print(\"X1: {} | X2: {}\\n\".format(np.var(tmp_x1), np.var(tmp_x2)))\n",
    "\n",
    "if np.var(tmp_x1)>=np.var(tmp_x2):\n",
    "    print(\"X1 is larger\")\n",
    "    print(np.var(tmp_x1)/np.var(tmp_x2))\n",
    "else:\n",
    "    print(\"X2 is larger\")\n",
    "    print(np.var(tmp_x2)/np.var(tmp_x1))"
   ]
  },
  {
   "cell_type": "markdown",
   "id": "dd5cfe94",
   "metadata": {},
   "source": [
    "Thus, we can proceed to perform the two sample t-test with equal variances:\n",
    "\n",
    "The two hypotheses for this particular two sample t-test are as follows:\n",
    "\n",
    "H0: µ1 = µ2 (the two population means are equal)\n",
    "\n",
    "HA: µ1 ≠µ2 (the two population means are not equal)"
   ]
  },
  {
   "cell_type": "code",
   "execution_count": 39,
   "id": "ba645684",
   "metadata": {},
   "outputs": [],
   "source": [
    "tmp_x1 = group0\n",
    "tmp_x2 = group1\n",
    "\n",
    "#perform two sample t-test with equal variances\n",
    "statVal, pvalue = stats.ttest_ind(a=tmp_x1, b=tmp_x2, equal_var=True)"
   ]
  },
  {
   "cell_type": "code",
   "execution_count": 40,
   "id": "b0b8c51c",
   "metadata": {},
   "outputs": [
    {
     "name": "stdout",
     "output_type": "stream",
     "text": [
      "0.15602067188091598\n"
     ]
    }
   ],
   "source": [
    "print(statVal)"
   ]
  },
  {
   "cell_type": "code",
   "execution_count": 41,
   "id": "31845bcb",
   "metadata": {},
   "outputs": [
    {
     "name": "stdout",
     "output_type": "stream",
     "text": [
      "0.87603248848226\n"
     ]
    }
   ],
   "source": [
    "print(pvalue)"
   ]
  },
  {
   "cell_type": "markdown",
   "id": "3a73c564",
   "metadata": {},
   "source": [
    "Because the p-value of our test is greater than alpha = 0.05, we fail to reject the null hypothesis of the test. We do not have sufficient evidence to say that the mean between the two populations is different."
   ]
  },
  {
   "cell_type": "code",
   "execution_count": 42,
   "id": "99a5af70",
   "metadata": {},
   "outputs": [],
   "source": [
    "tmp_x1 = group0\n",
    "tmp_x2 = group2\n",
    "\n",
    "#perform two sample t-test with equal variances\n",
    "statVal, pvalue = stats.ttest_ind(a=tmp_x1, b=tmp_x2, equal_var=True)"
   ]
  },
  {
   "cell_type": "code",
   "execution_count": 43,
   "id": "553fad6b",
   "metadata": {},
   "outputs": [
    {
     "name": "stdout",
     "output_type": "stream",
     "text": [
      "0.15602067188091598\n"
     ]
    }
   ],
   "source": [
    "print(statVal)"
   ]
  },
  {
   "cell_type": "code",
   "execution_count": 44,
   "id": "c9b71106",
   "metadata": {},
   "outputs": [
    {
     "name": "stdout",
     "output_type": "stream",
     "text": [
      "0.87603248848226\n"
     ]
    }
   ],
   "source": [
    "print(pvalue)"
   ]
  },
  {
   "cell_type": "markdown",
   "id": "ab01a597",
   "metadata": {},
   "source": [
    "Because the p-value of our test is greater than alpha = 0.05, we fail to reject the null hypothesis of the test. We do not have sufficient evidence to say that the mean between the two populations is different."
   ]
  },
  {
   "cell_type": "code",
   "execution_count": 45,
   "id": "0a2b814b",
   "metadata": {},
   "outputs": [],
   "source": [
    "tmp_x1 = group1\n",
    "tmp_x2 = group2\n",
    "\n",
    "#perform two sample t-test with equal variances\n",
    "statVal, pvalue = stats.ttest_ind(a=tmp_x1, b=tmp_x2, equal_var=True)"
   ]
  },
  {
   "cell_type": "code",
   "execution_count": 46,
   "id": "f3756679",
   "metadata": {},
   "outputs": [
    {
     "name": "stdout",
     "output_type": "stream",
     "text": [
      "0.0\n"
     ]
    }
   ],
   "source": [
    "print(statVal)"
   ]
  },
  {
   "cell_type": "code",
   "execution_count": 47,
   "id": "1ec78d75",
   "metadata": {},
   "outputs": [
    {
     "name": "stdout",
     "output_type": "stream",
     "text": [
      "1.0\n"
     ]
    }
   ],
   "source": [
    "print(pvalue)"
   ]
  },
  {
   "cell_type": "code",
   "execution_count": null,
   "id": "e4b95579",
   "metadata": {},
   "outputs": [],
   "source": []
  }
 ],
 "metadata": {
  "kernelspec": {
   "display_name": "Python 3 (ipykernel)",
   "language": "python",
   "name": "python3"
  },
  "language_info": {
   "codemirror_mode": {
    "name": "ipython",
    "version": 3
   },
   "file_extension": ".py",
   "mimetype": "text/x-python",
   "name": "python",
   "nbconvert_exporter": "python",
   "pygments_lexer": "ipython3",
   "version": "3.9.13"
  }
 },
 "nbformat": 4,
 "nbformat_minor": 5
}
