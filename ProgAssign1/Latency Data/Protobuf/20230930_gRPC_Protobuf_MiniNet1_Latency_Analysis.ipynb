{
 "cells": [
  {
   "cell_type": "code",
   "execution_count": 1,
   "id": "82af6f41",
   "metadata": {},
   "outputs": [],
   "source": [
    "import os\n",
    "import pandas as pd\n",
    "import numpy as np\n",
    "\n",
    "import matplotlib.pyplot as plt\n",
    "import matplotlib.dates as mdates\n",
    "%matplotlib inline\n",
    "import seaborn as sns\n",
    "\n",
    "# set up notebook to display multiple output in one cell\n",
    "from IPython.display import Latex\n",
    "from IPython.core.interactiveshell import InteractiveShell\n",
    "InteractiveShell.ast_node_interactivity = \"all\"\n",
    "pd.set_option('display.max_rows', None)\n",
    "pd.set_option('display.max_columns', None)\n",
    "pd.set_option(\"display.max_colwidth\", None)"
   ]
  },
  {
   "cell_type": "code",
   "execution_count": 2,
   "id": "5d2f67d1",
   "metadata": {},
   "outputs": [],
   "source": [
    "work_dir = \"./\""
   ]
  },
  {
   "cell_type": "code",
   "execution_count": 3,
   "id": "8f9b13a1",
   "metadata": {},
   "outputs": [
    {
     "name": "stdout",
     "output_type": "stream",
     "text": [
      "0 - 20230930_mininet3.txt\n",
      "1 - 20230930_mininet2.txt\n",
      "2 - 20230930_mininet1.txt\n",
      "3 - 20230930_localHost.txt\n"
     ]
    }
   ],
   "source": [
    "filePaths = [f for f in os.listdir(work_dir) if f.endswith(\".txt\")]\n",
    "for i in range(len(filePaths)):\n",
    "    print(f'{i} - {filePaths[i]}')"
   ]
  },
  {
   "cell_type": "code",
   "execution_count": 4,
   "id": "e5401e37",
   "metadata": {},
   "outputs": [],
   "source": [
    "file = pd.read_csv(work_dir+filePaths[2], sep=',')"
   ]
  },
  {
   "cell_type": "code",
   "execution_count": 5,
   "id": "b54c1ba5",
   "metadata": {},
   "outputs": [
    {
     "data": {
      "text/html": [
       "<div>\n",
       "<style scoped>\n",
       "    .dataframe tbody tr th:only-of-type {\n",
       "        vertical-align: middle;\n",
       "    }\n",
       "\n",
       "    .dataframe tbody tr th {\n",
       "        vertical-align: top;\n",
       "    }\n",
       "\n",
       "    .dataframe thead th {\n",
       "        text-align: right;\n",
       "    }\n",
       "</style>\n",
       "<table border=\"1\" class=\"dataframe\">\n",
       "  <thead>\n",
       "    <tr style=\"text-align: right;\">\n",
       "      <th></th>\n",
       "      <th>iterStep</th>\n",
       "      <th>process</th>\n",
       "      <th>time</th>\n",
       "    </tr>\n",
       "  </thead>\n",
       "  <tbody>\n",
       "    <tr>\n",
       "      <th>0</th>\n",
       "      <td>0</td>\n",
       "      <td>health serialization</td>\n",
       "      <td>0.169857</td>\n",
       "    </tr>\n",
       "    <tr>\n",
       "      <th>1</th>\n",
       "      <td>1</td>\n",
       "      <td>order serialization</td>\n",
       "      <td>0.179036</td>\n",
       "    </tr>\n",
       "    <tr>\n",
       "      <th>2</th>\n",
       "      <td>2</td>\n",
       "      <td>health serialization</td>\n",
       "      <td>0.040923</td>\n",
       "    </tr>\n",
       "    <tr>\n",
       "      <th>3</th>\n",
       "      <td>3</td>\n",
       "      <td>order serialization</td>\n",
       "      <td>0.125764</td>\n",
       "    </tr>\n",
       "    <tr>\n",
       "      <th>4</th>\n",
       "      <td>4</td>\n",
       "      <td>health serialization</td>\n",
       "      <td>0.041331</td>\n",
       "    </tr>\n",
       "  </tbody>\n",
       "</table>\n",
       "</div>"
      ],
      "text/plain": [
       "   iterStep               process      time\n",
       "0         0  health serialization  0.169857\n",
       "1         1   order serialization  0.179036\n",
       "2         2  health serialization  0.040923\n",
       "3         3   order serialization  0.125764\n",
       "4         4  health serialization  0.041331"
      ]
     },
     "execution_count": 5,
     "metadata": {},
     "output_type": "execute_result"
    }
   ],
   "source": [
    "file.head()"
   ]
  },
  {
   "cell_type": "code",
   "execution_count": 6,
   "id": "0a3aa450",
   "metadata": {},
   "outputs": [
    {
     "data": {
      "text/html": [
       "<div>\n",
       "<style scoped>\n",
       "    .dataframe tbody tr th:only-of-type {\n",
       "        vertical-align: middle;\n",
       "    }\n",
       "\n",
       "    .dataframe tbody tr th {\n",
       "        vertical-align: top;\n",
       "    }\n",
       "\n",
       "    .dataframe thead th {\n",
       "        text-align: right;\n",
       "    }\n",
       "</style>\n",
       "<table border=\"1\" class=\"dataframe\">\n",
       "  <thead>\n",
       "    <tr style=\"text-align: right;\">\n",
       "      <th></th>\n",
       "      <th>iterStep</th>\n",
       "      <th>process</th>\n",
       "      <th>time</th>\n",
       "    </tr>\n",
       "  </thead>\n",
       "  <tbody>\n",
       "    <tr>\n",
       "      <th>0</th>\n",
       "      <td>0</td>\n",
       "      <td>health serialization</td>\n",
       "      <td>0.169857</td>\n",
       "    </tr>\n",
       "    <tr>\n",
       "      <th>1</th>\n",
       "      <td>1</td>\n",
       "      <td>order serialization</td>\n",
       "      <td>0.179036</td>\n",
       "    </tr>\n",
       "    <tr>\n",
       "      <th>2</th>\n",
       "      <td>2</td>\n",
       "      <td>health serialization</td>\n",
       "      <td>0.040923</td>\n",
       "    </tr>\n",
       "    <tr>\n",
       "      <th>3</th>\n",
       "      <td>3</td>\n",
       "      <td>order serialization</td>\n",
       "      <td>0.125764</td>\n",
       "    </tr>\n",
       "    <tr>\n",
       "      <th>4</th>\n",
       "      <td>4</td>\n",
       "      <td>health serialization</td>\n",
       "      <td>0.041331</td>\n",
       "    </tr>\n",
       "  </tbody>\n",
       "</table>\n",
       "</div>"
      ],
      "text/plain": [
       "   iterStep               process      time\n",
       "0         0  health serialization  0.169857\n",
       "1         1   order serialization  0.179036\n",
       "2         2  health serialization  0.040923\n",
       "3         3   order serialization  0.125764\n",
       "4         4  health serialization  0.041331"
      ]
     },
     "execution_count": 6,
     "metadata": {},
     "output_type": "execute_result"
    }
   ],
   "source": [
    "datDF = file.copy()\n",
    "datDF['iterStep'] = datDF['iterStep'].astype(int)\n",
    "datDF['process'] = datDF['process'].astype(str)\n",
    "datDF['time'] = datDF['time'].astype(float)\n",
    "datDF.head()"
   ]
  },
  {
   "cell_type": "code",
   "execution_count": 7,
   "id": "6aa14a67",
   "metadata": {},
   "outputs": [],
   "source": [
    "tmpLST = []\n",
    "for i in range(len(datDF)):\n",
    "    if 'health' in datDF['process'][i].lower():\n",
    "        tmpLST.append(\"health\")\n",
    "        datDF.at[i,'process'] = datDF['process'][i].lower().replace('health ',\"\")\n",
    "\n",
    "    if 'order' in datDF['process'][i].lower():\n",
    "        tmpLST.append(\"order\")\n",
    "        datDF.at[i,'process'] = datDF['process'][i].lower().replace('order ',\"\")\n",
    "    \n",
    "datDF['server'] = tmpLST"
   ]
  },
  {
   "cell_type": "code",
   "execution_count": 8,
   "id": "6d437715",
   "metadata": {},
   "outputs": [
    {
     "data": {
      "text/html": [
       "<div>\n",
       "<style scoped>\n",
       "    .dataframe tbody tr th:only-of-type {\n",
       "        vertical-align: middle;\n",
       "    }\n",
       "\n",
       "    .dataframe tbody tr th {\n",
       "        vertical-align: top;\n",
       "    }\n",
       "\n",
       "    .dataframe thead th {\n",
       "        text-align: right;\n",
       "    }\n",
       "</style>\n",
       "<table border=\"1\" class=\"dataframe\">\n",
       "  <thead>\n",
       "    <tr style=\"text-align: right;\">\n",
       "      <th></th>\n",
       "      <th>iterStep</th>\n",
       "      <th>process</th>\n",
       "      <th>time</th>\n",
       "      <th>server</th>\n",
       "    </tr>\n",
       "  </thead>\n",
       "  <tbody>\n",
       "    <tr>\n",
       "      <th>0</th>\n",
       "      <td>0</td>\n",
       "      <td>serialization</td>\n",
       "      <td>0.169857</td>\n",
       "      <td>health</td>\n",
       "    </tr>\n",
       "    <tr>\n",
       "      <th>1</th>\n",
       "      <td>1</td>\n",
       "      <td>serialization</td>\n",
       "      <td>0.179036</td>\n",
       "      <td>order</td>\n",
       "    </tr>\n",
       "    <tr>\n",
       "      <th>2</th>\n",
       "      <td>2</td>\n",
       "      <td>serialization</td>\n",
       "      <td>0.040923</td>\n",
       "      <td>health</td>\n",
       "    </tr>\n",
       "    <tr>\n",
       "      <th>3</th>\n",
       "      <td>3</td>\n",
       "      <td>serialization</td>\n",
       "      <td>0.125764</td>\n",
       "      <td>order</td>\n",
       "    </tr>\n",
       "    <tr>\n",
       "      <th>4</th>\n",
       "      <td>4</td>\n",
       "      <td>serialization</td>\n",
       "      <td>0.041331</td>\n",
       "      <td>health</td>\n",
       "    </tr>\n",
       "  </tbody>\n",
       "</table>\n",
       "</div>"
      ],
      "text/plain": [
       "   iterStep        process      time  server\n",
       "0         0  serialization  0.169857  health\n",
       "1         1  serialization  0.179036   order\n",
       "2         2  serialization  0.040923  health\n",
       "3         3  serialization  0.125764   order\n",
       "4         4  serialization  0.041331  health"
      ]
     },
     "execution_count": 8,
     "metadata": {},
     "output_type": "execute_result"
    }
   ],
   "source": [
    "datDF.head()"
   ]
  },
  {
   "cell_type": "code",
   "execution_count": 9,
   "id": "c14209e3",
   "metadata": {},
   "outputs": [
    {
     "data": {
      "text/html": [
       "<div>\n",
       "<style scoped>\n",
       "    .dataframe tbody tr th:only-of-type {\n",
       "        vertical-align: middle;\n",
       "    }\n",
       "\n",
       "    .dataframe tbody tr th {\n",
       "        vertical-align: top;\n",
       "    }\n",
       "\n",
       "    .dataframe thead th {\n",
       "        text-align: right;\n",
       "    }\n",
       "</style>\n",
       "<table border=\"1\" class=\"dataframe\">\n",
       "  <thead>\n",
       "    <tr style=\"text-align: right;\">\n",
       "      <th></th>\n",
       "      <th>iterStep</th>\n",
       "      <th>process</th>\n",
       "      <th>time</th>\n",
       "      <th>server</th>\n",
       "    </tr>\n",
       "  </thead>\n",
       "  <tbody>\n",
       "    <tr>\n",
       "      <th>0</th>\n",
       "      <td>0</td>\n",
       "      <td>serialization</td>\n",
       "      <td>169.856787</td>\n",
       "      <td>health</td>\n",
       "    </tr>\n",
       "    <tr>\n",
       "      <th>1</th>\n",
       "      <td>1</td>\n",
       "      <td>serialization</td>\n",
       "      <td>179.036379</td>\n",
       "      <td>order</td>\n",
       "    </tr>\n",
       "    <tr>\n",
       "      <th>2</th>\n",
       "      <td>2</td>\n",
       "      <td>serialization</td>\n",
       "      <td>40.922642</td>\n",
       "      <td>health</td>\n",
       "    </tr>\n",
       "    <tr>\n",
       "      <th>3</th>\n",
       "      <td>3</td>\n",
       "      <td>serialization</td>\n",
       "      <td>125.763893</td>\n",
       "      <td>order</td>\n",
       "    </tr>\n",
       "    <tr>\n",
       "      <th>4</th>\n",
       "      <td>4</td>\n",
       "      <td>serialization</td>\n",
       "      <td>41.330576</td>\n",
       "      <td>health</td>\n",
       "    </tr>\n",
       "  </tbody>\n",
       "</table>\n",
       "</div>"
      ],
      "text/plain": [
       "   iterStep        process        time  server\n",
       "0         0  serialization  169.856787  health\n",
       "1         1  serialization  179.036379   order\n",
       "2         2  serialization   40.922642  health\n",
       "3         3  serialization  125.763893   order\n",
       "4         4  serialization   41.330576  health"
      ]
     },
     "execution_count": 9,
     "metadata": {},
     "output_type": "execute_result"
    }
   ],
   "source": [
    "serialDF = datDF[datDF['process']=='serialization'].reset_index(drop=True)\n",
    "\n",
    "# convert seconds to miliseconds\n",
    "serialDF['time'] = serialDF['time']*1000\n",
    "\n",
    "serialDF.head()"
   ]
  },
  {
   "cell_type": "markdown",
   "id": "e2363c09",
   "metadata": {},
   "source": [
    "# Latency Data Analysis\n",
    "\n",
    "For this analysis we will be using a boxplot. A box and whisker plot (otherwise known as a boxplot), is a graph summarising a set of data. The shape of the boxplot shows how the data is distributed and it also shows any outliers. It is a useful way to compare different sets of data as you can draw more than one boxplot per graph. These can be displayed alongside a number line, horizontally or vertically.\n",
    "\n",
    "# Reading a Box and Whisker Plot\n",
    "\n",
    "Interpreting a boxplot can be done once you understand what the different lines mean on a box and whisker diagram. The line splitting the box in two represents the median value. This shows that 50% of the data lies on the left hand side of the median value and 50% lies on the right hand side. The left edge of the box represents the lower quartile; it shows the value at which the first 25% of the data falls up to. The right edge of the box shows the upper quartile; it shows that 25% of the data lies to the right of the upper quartile value. The values at which the horizontal lines stop at are the values of the upper and lower values of the data. The single points on the diagram show the outliers."
   ]
  },
  {
   "attachments": {
    "boxplotEX.jpg": {
     "image/jpeg": "[encoded data removed]"
    }
   },
   "cell_type": "markdown",
   "id": "8a2e201a",
   "metadata": {},
   "source": [
    "![boxplotEX.jpg](attachment:boxplotEX.jpg)"
   ]
  },
  {
   "cell_type": "markdown",
   "id": "6a23e322",
   "metadata": {},
   "source": [
    "# Serialization"
   ]
  },
  {
   "cell_type": "code",
   "execution_count": 10,
   "id": "bbabfe8d",
   "metadata": {},
   "outputs": [
    {
     "data": {
      "text/plain": [
       "<AxesSubplot:xlabel='time', ylabel='server'>"
      ]
     },
     "execution_count": 10,
     "metadata": {},
     "output_type": "execute_result"
    },
    {
     "data": {
      "text/plain": [
       "Text(0.5, 0, 'time (ms)')"
      ]
     },
     "execution_count": 10,
     "metadata": {},
     "output_type": "execute_result"
    },
    {
     "data": {
      "text/plain": [
       "Text(0, 0.5, 'Server Latency')"
      ]
     },
     "execution_count": 10,
     "metadata": {},
     "output_type": "execute_result"
    },
    {
     "data": {
      "image/png": "[encoded data removed]",
      "text/plain": [
       "<Figure size 640x480 with 1 Axes>"
      ]
     },
     "metadata": {},
     "output_type": "display_data"
    }
   ],
   "source": [
    "sns.boxplot(data=serialDF, x=\"time\", y=\"server\")\n",
    "plt.xlabel('time (ms)', fontsize=12)\n",
    "plt.ylabel('Server Latency', fontsize=12)\n",
    "plt.show()"
   ]
  },
  {
   "cell_type": "markdown",
   "id": "5bf83f3c",
   "metadata": {},
   "source": [
    "## Health Server"
   ]
  },
  {
   "cell_type": "code",
   "execution_count": 11,
   "id": "5d54e324",
   "metadata": {},
   "outputs": [
    {
     "data": {
      "text/html": [
       "<div>\n",
       "<style scoped>\n",
       "    .dataframe tbody tr th:only-of-type {\n",
       "        vertical-align: middle;\n",
       "    }\n",
       "\n",
       "    .dataframe tbody tr th {\n",
       "        vertical-align: top;\n",
       "    }\n",
       "\n",
       "    .dataframe thead th {\n",
       "        text-align: right;\n",
       "    }\n",
       "</style>\n",
       "<table border=\"1\" class=\"dataframe\">\n",
       "  <thead>\n",
       "    <tr style=\"text-align: right;\">\n",
       "      <th></th>\n",
       "      <th>iterStep</th>\n",
       "      <th>process</th>\n",
       "      <th>time</th>\n",
       "      <th>server</th>\n",
       "    </tr>\n",
       "  </thead>\n",
       "  <tbody>\n",
       "    <tr>\n",
       "      <th>0</th>\n",
       "      <td>0</td>\n",
       "      <td>serialization</td>\n",
       "      <td>169.856787</td>\n",
       "      <td>health</td>\n",
       "    </tr>\n",
       "    <tr>\n",
       "      <th>1</th>\n",
       "      <td>2</td>\n",
       "      <td>serialization</td>\n",
       "      <td>40.922642</td>\n",
       "      <td>health</td>\n",
       "    </tr>\n",
       "    <tr>\n",
       "      <th>2</th>\n",
       "      <td>4</td>\n",
       "      <td>serialization</td>\n",
       "      <td>41.330576</td>\n",
       "      <td>health</td>\n",
       "    </tr>\n",
       "    <tr>\n",
       "      <th>3</th>\n",
       "      <td>6</td>\n",
       "      <td>serialization</td>\n",
       "      <td>41.603565</td>\n",
       "      <td>health</td>\n",
       "    </tr>\n",
       "    <tr>\n",
       "      <th>4</th>\n",
       "      <td>8</td>\n",
       "      <td>serialization</td>\n",
       "      <td>42.433023</td>\n",
       "      <td>health</td>\n",
       "    </tr>\n",
       "  </tbody>\n",
       "</table>\n",
       "</div>"
      ],
      "text/plain": [
       "   iterStep        process        time  server\n",
       "0         0  serialization  169.856787  health\n",
       "1         2  serialization   40.922642  health\n",
       "2         4  serialization   41.330576  health\n",
       "3         6  serialization   41.603565  health\n",
       "4         8  serialization   42.433023  health"
      ]
     },
     "execution_count": 11,
     "metadata": {},
     "output_type": "execute_result"
    },
    {
     "name": "stdout",
     "output_type": "stream",
     "text": [
      "Median value: 42.072\n"
     ]
    },
    {
     "data": {
      "text/html": [
       "<div>\n",
       "<style scoped>\n",
       "    .dataframe tbody tr th:only-of-type {\n",
       "        vertical-align: middle;\n",
       "    }\n",
       "\n",
       "    .dataframe tbody tr th {\n",
       "        vertical-align: top;\n",
       "    }\n",
       "\n",
       "    .dataframe thead th {\n",
       "        text-align: right;\n",
       "    }\n",
       "</style>\n",
       "<table border=\"1\" class=\"dataframe\">\n",
       "  <thead>\n",
       "    <tr style=\"text-align: right;\">\n",
       "      <th></th>\n",
       "      <th>iterStep</th>\n",
       "      <th>time</th>\n",
       "    </tr>\n",
       "  </thead>\n",
       "  <tbody>\n",
       "    <tr>\n",
       "      <th>count</th>\n",
       "      <td>100.000000</td>\n",
       "      <td>100.000000</td>\n",
       "    </tr>\n",
       "    <tr>\n",
       "      <th>mean</th>\n",
       "      <td>99.000000</td>\n",
       "      <td>43.444510</td>\n",
       "    </tr>\n",
       "    <tr>\n",
       "      <th>std</th>\n",
       "      <td>58.022984</td>\n",
       "      <td>12.787524</td>\n",
       "    </tr>\n",
       "    <tr>\n",
       "      <th>min</th>\n",
       "      <td>0.000000</td>\n",
       "      <td>40.922642</td>\n",
       "    </tr>\n",
       "    <tr>\n",
       "      <th>25%</th>\n",
       "      <td>49.500000</td>\n",
       "      <td>41.712821</td>\n",
       "    </tr>\n",
       "    <tr>\n",
       "      <th>50%</th>\n",
       "      <td>99.000000</td>\n",
       "      <td>42.071819</td>\n",
       "    </tr>\n",
       "    <tr>\n",
       "      <th>75%</th>\n",
       "      <td>148.500000</td>\n",
       "      <td>42.511404</td>\n",
       "    </tr>\n",
       "    <tr>\n",
       "      <th>max</th>\n",
       "      <td>198.000000</td>\n",
       "      <td>169.856787</td>\n",
       "    </tr>\n",
       "  </tbody>\n",
       "</table>\n",
       "</div>"
      ],
      "text/plain": [
       "         iterStep        time\n",
       "count  100.000000  100.000000\n",
       "mean    99.000000   43.444510\n",
       "std     58.022984   12.787524\n",
       "min      0.000000   40.922642\n",
       "25%     49.500000   41.712821\n",
       "50%     99.000000   42.071819\n",
       "75%    148.500000   42.511404\n",
       "max    198.000000  169.856787"
      ]
     },
     "execution_count": 11,
     "metadata": {},
     "output_type": "execute_result"
    }
   ],
   "source": [
    "tmpHealth = serialDF[serialDF['server']=='health'].reset_index(drop=True)\n",
    "tmpHealth.head()\n",
    "print(\"Median value: {}\".format(np.round_(np.median(tmpHealth['time']),3)))\n",
    "tmpHealth.describe()"
   ]
  },
  {
   "cell_type": "markdown",
   "id": "70296999",
   "metadata": {},
   "source": [
    "## Order Server"
   ]
  },
  {
   "cell_type": "code",
   "execution_count": 12,
   "id": "8255f698",
   "metadata": {},
   "outputs": [
    {
     "data": {
      "text/html": [
       "<div>\n",
       "<style scoped>\n",
       "    .dataframe tbody tr th:only-of-type {\n",
       "        vertical-align: middle;\n",
       "    }\n",
       "\n",
       "    .dataframe tbody tr th {\n",
       "        vertical-align: top;\n",
       "    }\n",
       "\n",
       "    .dataframe thead th {\n",
       "        text-align: right;\n",
       "    }\n",
       "</style>\n",
       "<table border=\"1\" class=\"dataframe\">\n",
       "  <thead>\n",
       "    <tr style=\"text-align: right;\">\n",
       "      <th></th>\n",
       "      <th>iterStep</th>\n",
       "      <th>process</th>\n",
       "      <th>time</th>\n",
       "      <th>server</th>\n",
       "    </tr>\n",
       "  </thead>\n",
       "  <tbody>\n",
       "    <tr>\n",
       "      <th>0</th>\n",
       "      <td>1</td>\n",
       "      <td>serialization</td>\n",
       "      <td>179.036379</td>\n",
       "      <td>order</td>\n",
       "    </tr>\n",
       "    <tr>\n",
       "      <th>1</th>\n",
       "      <td>3</td>\n",
       "      <td>serialization</td>\n",
       "      <td>125.763893</td>\n",
       "      <td>order</td>\n",
       "    </tr>\n",
       "    <tr>\n",
       "      <th>2</th>\n",
       "      <td>5</td>\n",
       "      <td>serialization</td>\n",
       "      <td>130.459547</td>\n",
       "      <td>order</td>\n",
       "    </tr>\n",
       "    <tr>\n",
       "      <th>3</th>\n",
       "      <td>7</td>\n",
       "      <td>serialization</td>\n",
       "      <td>130.846262</td>\n",
       "      <td>order</td>\n",
       "    </tr>\n",
       "    <tr>\n",
       "      <th>4</th>\n",
       "      <td>9</td>\n",
       "      <td>serialization</td>\n",
       "      <td>126.784325</td>\n",
       "      <td>order</td>\n",
       "    </tr>\n",
       "  </tbody>\n",
       "</table>\n",
       "</div>"
      ],
      "text/plain": [
       "   iterStep        process        time server\n",
       "0         1  serialization  179.036379  order\n",
       "1         3  serialization  125.763893  order\n",
       "2         5  serialization  130.459547  order\n",
       "3         7  serialization  130.846262  order\n",
       "4         9  serialization  126.784325  order"
      ]
     },
     "execution_count": 12,
     "metadata": {},
     "output_type": "execute_result"
    },
    {
     "name": "stdout",
     "output_type": "stream",
     "text": [
      "Median value: 129.791\n"
     ]
    },
    {
     "data": {
      "text/html": [
       "<div>\n",
       "<style scoped>\n",
       "    .dataframe tbody tr th:only-of-type {\n",
       "        vertical-align: middle;\n",
       "    }\n",
       "\n",
       "    .dataframe tbody tr th {\n",
       "        vertical-align: top;\n",
       "    }\n",
       "\n",
       "    .dataframe thead th {\n",
       "        text-align: right;\n",
       "    }\n",
       "</style>\n",
       "<table border=\"1\" class=\"dataframe\">\n",
       "  <thead>\n",
       "    <tr style=\"text-align: right;\">\n",
       "      <th></th>\n",
       "      <th>iterStep</th>\n",
       "      <th>time</th>\n",
       "    </tr>\n",
       "  </thead>\n",
       "  <tbody>\n",
       "    <tr>\n",
       "      <th>count</th>\n",
       "      <td>100.000000</td>\n",
       "      <td>100.000000</td>\n",
       "    </tr>\n",
       "    <tr>\n",
       "      <th>mean</th>\n",
       "      <td>100.000000</td>\n",
       "      <td>130.359364</td>\n",
       "    </tr>\n",
       "    <tr>\n",
       "      <th>std</th>\n",
       "      <td>58.022984</td>\n",
       "      <td>5.291266</td>\n",
       "    </tr>\n",
       "    <tr>\n",
       "      <th>min</th>\n",
       "      <td>1.000000</td>\n",
       "      <td>125.086546</td>\n",
       "    </tr>\n",
       "    <tr>\n",
       "      <th>25%</th>\n",
       "      <td>50.500000</td>\n",
       "      <td>128.784955</td>\n",
       "    </tr>\n",
       "    <tr>\n",
       "      <th>50%</th>\n",
       "      <td>100.000000</td>\n",
       "      <td>129.790545</td>\n",
       "    </tr>\n",
       "    <tr>\n",
       "      <th>75%</th>\n",
       "      <td>149.500000</td>\n",
       "      <td>130.858421</td>\n",
       "    </tr>\n",
       "    <tr>\n",
       "      <th>max</th>\n",
       "      <td>199.000000</td>\n",
       "      <td>179.036379</td>\n",
       "    </tr>\n",
       "  </tbody>\n",
       "</table>\n",
       "</div>"
      ],
      "text/plain": [
       "         iterStep        time\n",
       "count  100.000000  100.000000\n",
       "mean   100.000000  130.359364\n",
       "std     58.022984    5.291266\n",
       "min      1.000000  125.086546\n",
       "25%     50.500000  128.784955\n",
       "50%    100.000000  129.790545\n",
       "75%    149.500000  130.858421\n",
       "max    199.000000  179.036379"
      ]
     },
     "execution_count": 12,
     "metadata": {},
     "output_type": "execute_result"
    }
   ],
   "source": [
    "tmpOrder = serialDF[serialDF['server']=='order'].reset_index(drop=True)\n",
    "tmpOrder.head()\n",
    "print(\"Median value: {}\".format(np.round_(np.median(tmpOrder['time']),3)))\n",
    "tmpOrder.describe()"
   ]
  },
  {
   "cell_type": "code",
   "execution_count": null,
   "id": "5222db33",
   "metadata": {},
   "outputs": [],
   "source": []
  },
  {
   "cell_type": "code",
   "execution_count": null,
   "id": "5dd85783",
   "metadata": {},
   "outputs": [],
   "source": []
  }
 ],
 "metadata": {
  "kernelspec": {
   "display_name": "Python 3 (ipykernel)",
   "language": "python",
   "name": "python3"
  },
  "language_info": {
   "codemirror_mode": {
    "name": "ipython",
    "version": 3
   },
   "file_extension": ".py",
   "mimetype": "text/x-python",
   "name": "python",
   "nbconvert_exporter": "python",
   "pygments_lexer": "ipython3",
   "version": "3.9.13"
  }
 },
 "nbformat": 4,
 "nbformat_minor": 5
}
